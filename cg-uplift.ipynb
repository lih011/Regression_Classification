{
 "cells": [
  {
   "attachments": {},
   "cell_type": "markdown",
   "metadata": {},
   "source": [
    "# Uplift Modeling\n"
   ]
  },
  {
   "cell_type": "code",
   "execution_count": 1,
   "metadata": {},
   "outputs": [],
   "source": [
    "import matplotlib as mpl\n",
    "import matplotlib.pyplot as plt\n",
    "import numpy as np\n",
    "import pandas as pd\n",
    "import pyrsm as rsm\n",
    "import statsmodels.formula.api as smf\n",
    "from statsmodels.genmod.families import Binomial\n",
    "from statsmodels.genmod.families.links import logit\n",
    "from sklearn.model_selection import train_test_split\n",
    "from sklearn.ensemble import RandomForestClassifier\n",
    "from sklearn.model_selection import GridSearchCV\n",
    "import statsmodels.api as sm\n",
    "from sklearn import metrics\n",
    "\n",
    "# increase plot resolution\n",
    "# mpl.rcParams[\"figure.dpi\"] = 150"
   ]
  },
  {
   "cell_type": "code",
   "execution_count": 2,
   "metadata": {},
   "outputs": [],
   "source": [
    "# pip install --user \"pyrsm>=0.7.4\""
   ]
  },
  {
   "cell_type": "code",
   "execution_count": 3,
   "metadata": {},
   "outputs": [
    {
     "data": {
      "text/plain": [
       "'0.7.5'"
      ]
     },
     "execution_count": 3,
     "metadata": {},
     "output_type": "execute_result"
    }
   ],
   "source": [
    "rsm.__version__"
   ]
  },
  {
   "cell_type": "code",
   "execution_count": 4,
   "metadata": {},
   "outputs": [
    {
     "data": {
      "text/markdown": [
       "## Creative gaming\n",
       "\n",
       "Game telemetry dataset used for the Creative Gaming: Uplift Modeling case\n",
       "\n",
       "#### Feature descriptions\n",
       "\n",
       "* converted: Purchased the Zalon campain (\"yes\" or \"no\")\n",
       "* GameLevel: Highest level of game achieved by the user\n",
       "* NumGameDays: Number of days user played the game in last month (with or without network connection)\n",
       "* NumGameDays4Plus: Number of days user played the game in last month with 4 or more total users (this implies using a network connection)\n",
       "* NumInGameMessagesSent: Number of in-game messages sent to friends\n",
       "* NumFriends: Number of friends to which the user is connected (necessary to crew together in multiplayer mode) \n",
       "* NumFriendRequestIgnored: Number of friend requests this user has not replied to since game inception\n",
       "* NumSpaceHeroBadges: Number of \"Space Hero\" badges, the highest distinction for gameplay in Space Pirates\n",
       "* AcquiredSpaceship: Flag if the user owns a spaceship, i.e., does not have to crew on another user's or NPC's space ship (\"no\" or \"yes\")\n",
       "* AcquiredIonWeapon: Flag if the user owns the powerful \"ion weapon\" (\"no\" or \"yes\")\n",
       "* TimesLostSpaceship: The number of times the user destroyed his/her spaceship during gameplay. Spaceships need to be re-acquired if destroyed.\n",
       "* TimesKilled: Number of times the user was killed during gameplay\n",
       "* TimesCaptain: Number of times in last month that the user played in the role of a captain\n",
       "* TimesNavigator: Number of times in last month that the user played in the role of a navigator\n",
       "* PurchasedCoinPackSmall: Flag if the user purchased a small pack of Zathium in last month (\"no\" or \"yes\")\n",
       "* PurchasedCoinPackLarge: Flag if the user purchased a large pack of Zathium in last month (\"no\" or \"yes\")\n",
       "* NumAdsClicked: Number of in-app ads the user has clicked on\n",
       "* DaysUser: Number of days since user established a user ID with Creative Gaming (for Space Pirates or previous games)\n",
       "* UserConsole: Flag if the user plays Creative Gaming games on a console (\"no\" or \"yes\")\n",
       "* UserHasOldOS: Flag if the user has iOS version 10 or earlier (\"no\" or \"yes\")\n"
      ],
      "text/plain": [
       "<IPython.core.display.Markdown object>"
      ]
     },
     "metadata": {},
     "output_type": "display_data"
    }
   ],
   "source": [
    "## loading the data - this dataset must NOT be changed\n",
    "cg_organic_control = pd.read_pickle(\"data/cg_organic_control.pkl\")\n",
    "rsm.describe(cg_organic_control)"
   ]
  },
  {
   "cell_type": "code",
   "execution_count": 5,
   "metadata": {},
   "outputs": [
    {
     "data": {
      "text/markdown": [
       "## Creative gaming\n",
       "\n",
       "Game telemetry dataset used for the Creative Gaming: Uplift Modeling case\n",
       "\n",
       "#### Feature descriptions\n",
       "\n",
       "* converted: Purchased the Zalon campain (\"yes\" or \"no\")\n",
       "* GameLevel: Highest level of game achieved by the user\n",
       "* NumGameDays: Number of days user played the game in last month (with or without network connection)\n",
       "* NumGameDays4Plus: Number of days user played the game in last month with 4 or more total users (this implies using a network connection)\n",
       "* NumInGameMessagesSent: Number of in-game messages sent to friends\n",
       "* NumFriends: Number of friends to which the user is connected (necessary to crew together in multiplayer mode) \n",
       "* NumFriendRequestIgnored: Number of friend requests this user has not replied to since game inception\n",
       "* NumSpaceHeroBadges: Number of \"Space Hero\" badges, the highest distinction for gameplay in Space Pirates\n",
       "* AcquiredSpaceship: Flag if the user owns a spaceship, i.e., does not have to crew on another user's or NPC's space ship (\"no\" or \"yes\")\n",
       "* AcquiredIonWeapon: Flag if the user owns the powerful \"ion weapon\" (\"no\" or \"yes\")\n",
       "* TimesLostSpaceship: The number of times the user destroyed his/her spaceship during gameplay. Spaceships need to be re-acquired if destroyed.\n",
       "* TimesKilled: Number of times the user was killed during gameplay\n",
       "* TimesCaptain: Number of times in last month that the user played in the role of a captain\n",
       "* TimesNavigator: Number of times in last month that the user played in the role of a navigator\n",
       "* PurchasedCoinPackSmall: Flag if the user purchased a small pack of Zathium in last month (\"no\" or \"yes\")\n",
       "* PurchasedCoinPackLarge: Flag if the user purchased a large pack of Zathium in last month (\"no\" or \"yes\")\n",
       "* NumAdsClicked: Number of in-app ads the user has clicked on\n",
       "* DaysUser: Number of days since user established a user ID with Creative Gaming (for Space Pirates or previous games)\n",
       "* UserConsole: Flag if the user plays Creative Gaming games on a console (\"no\" or \"yes\")\n",
       "* UserHasOldOS: Flag if the user has iOS version 10 or earlier (\"no\" or \"yes\")"
      ],
      "text/plain": [
       "<IPython.core.display.Markdown object>"
      ]
     },
     "metadata": {},
     "output_type": "display_data"
    }
   ],
   "source": [
    "## loading the data - this dataset must NOT be changed\n",
    "cg_ad_random = pd.read_pickle(\"data/cg_ad_random.pkl\")\n",
    "rsm.describe(cg_ad_random)"
   ]
  },
  {
   "cell_type": "code",
   "execution_count": 6,
   "metadata": {},
   "outputs": [],
   "source": [
    "# Add a variable \"ad\" to cg_ad_random and set its value to 1 for all rows\n",
    "cg_ad_random['ad'] = 1"
   ]
  },
  {
   "cell_type": "code",
   "execution_count": 7,
   "metadata": {},
   "outputs": [],
   "source": [
    "# Add a variable \"ad\" to cg_organic_control and set its value to 0 for all rows\n",
    "cg_organic_control['ad'] = 0"
   ]
  },
  {
   "cell_type": "code",
   "execution_count": 8,
   "metadata": {},
   "outputs": [
    {
     "data": {
      "text/html": [
       "<div>\n",
       "<style scoped>\n",
       "    .dataframe tbody tr th:only-of-type {\n",
       "        vertical-align: middle;\n",
       "    }\n",
       "\n",
       "    .dataframe tbody tr th {\n",
       "        vertical-align: top;\n",
       "    }\n",
       "\n",
       "    .dataframe thead th {\n",
       "        text-align: right;\n",
       "    }\n",
       "</style>\n",
       "<table border=\"1\" class=\"dataframe\">\n",
       "  <thead>\n",
       "    <tr style=\"text-align: right;\">\n",
       "      <th></th>\n",
       "      <th>converted</th>\n",
       "      <th>GameLevel</th>\n",
       "      <th>NumGameDays</th>\n",
       "      <th>NumGameDays4Plus</th>\n",
       "      <th>NumInGameMessagesSent</th>\n",
       "      <th>NumSpaceHeroBadges</th>\n",
       "      <th>NumFriendRequestIgnored</th>\n",
       "      <th>NumFriends</th>\n",
       "      <th>AcquiredSpaceship</th>\n",
       "      <th>AcquiredIonWeapon</th>\n",
       "      <th>...</th>\n",
       "      <th>TimesKilled</th>\n",
       "      <th>TimesCaptain</th>\n",
       "      <th>TimesNavigator</th>\n",
       "      <th>PurchasedCoinPackSmall</th>\n",
       "      <th>PurchasedCoinPackLarge</th>\n",
       "      <th>NumAdsClicked</th>\n",
       "      <th>DaysUser</th>\n",
       "      <th>UserConsole</th>\n",
       "      <th>UserHasOldOS</th>\n",
       "      <th>ad</th>\n",
       "    </tr>\n",
       "  </thead>\n",
       "  <tbody>\n",
       "    <tr>\n",
       "      <th>0</th>\n",
       "      <td>no</td>\n",
       "      <td>7</td>\n",
       "      <td>18</td>\n",
       "      <td>0</td>\n",
       "      <td>124</td>\n",
       "      <td>0</td>\n",
       "      <td>81</td>\n",
       "      <td>0</td>\n",
       "      <td>yes</td>\n",
       "      <td>no</td>\n",
       "      <td>...</td>\n",
       "      <td>0</td>\n",
       "      <td>0</td>\n",
       "      <td>4</td>\n",
       "      <td>no</td>\n",
       "      <td>yes</td>\n",
       "      <td>3</td>\n",
       "      <td>2101</td>\n",
       "      <td>no</td>\n",
       "      <td>no</td>\n",
       "      <td>0</td>\n",
       "    </tr>\n",
       "    <tr>\n",
       "      <th>1</th>\n",
       "      <td>no</td>\n",
       "      <td>10</td>\n",
       "      <td>3</td>\n",
       "      <td>2</td>\n",
       "      <td>60</td>\n",
       "      <td>0</td>\n",
       "      <td>18</td>\n",
       "      <td>479</td>\n",
       "      <td>no</td>\n",
       "      <td>no</td>\n",
       "      <td>...</td>\n",
       "      <td>7</td>\n",
       "      <td>0</td>\n",
       "      <td>0</td>\n",
       "      <td>yes</td>\n",
       "      <td>no</td>\n",
       "      <td>7</td>\n",
       "      <td>1644</td>\n",
       "      <td>yes</td>\n",
       "      <td>no</td>\n",
       "      <td>0</td>\n",
       "    </tr>\n",
       "    <tr>\n",
       "      <th>2</th>\n",
       "      <td>no</td>\n",
       "      <td>2</td>\n",
       "      <td>1</td>\n",
       "      <td>0</td>\n",
       "      <td>0</td>\n",
       "      <td>0</td>\n",
       "      <td>0</td>\n",
       "      <td>0</td>\n",
       "      <td>no</td>\n",
       "      <td>no</td>\n",
       "      <td>...</td>\n",
       "      <td>0</td>\n",
       "      <td>0</td>\n",
       "      <td>2</td>\n",
       "      <td>no</td>\n",
       "      <td>no</td>\n",
       "      <td>8</td>\n",
       "      <td>3197</td>\n",
       "      <td>yes</td>\n",
       "      <td>yes</td>\n",
       "      <td>0</td>\n",
       "    </tr>\n",
       "    <tr>\n",
       "      <th>3</th>\n",
       "      <td>no</td>\n",
       "      <td>2</td>\n",
       "      <td>11</td>\n",
       "      <td>1</td>\n",
       "      <td>125</td>\n",
       "      <td>0</td>\n",
       "      <td>73</td>\n",
       "      <td>217</td>\n",
       "      <td>no</td>\n",
       "      <td>no</td>\n",
       "      <td>...</td>\n",
       "      <td>0</td>\n",
       "      <td>0</td>\n",
       "      <td>0</td>\n",
       "      <td>yes</td>\n",
       "      <td>no</td>\n",
       "      <td>6</td>\n",
       "      <td>913</td>\n",
       "      <td>no</td>\n",
       "      <td>no</td>\n",
       "      <td>0</td>\n",
       "    </tr>\n",
       "    <tr>\n",
       "      <th>4</th>\n",
       "      <td>no</td>\n",
       "      <td>8</td>\n",
       "      <td>15</td>\n",
       "      <td>0</td>\n",
       "      <td>0</td>\n",
       "      <td>0</td>\n",
       "      <td>6</td>\n",
       "      <td>51</td>\n",
       "      <td>yes</td>\n",
       "      <td>no</td>\n",
       "      <td>...</td>\n",
       "      <td>0</td>\n",
       "      <td>2</td>\n",
       "      <td>1</td>\n",
       "      <td>yes</td>\n",
       "      <td>no</td>\n",
       "      <td>21</td>\n",
       "      <td>2009</td>\n",
       "      <td>yes</td>\n",
       "      <td>no</td>\n",
       "      <td>0</td>\n",
       "    </tr>\n",
       "    <tr>\n",
       "      <th>...</th>\n",
       "      <td>...</td>\n",
       "      <td>...</td>\n",
       "      <td>...</td>\n",
       "      <td>...</td>\n",
       "      <td>...</td>\n",
       "      <td>...</td>\n",
       "      <td>...</td>\n",
       "      <td>...</td>\n",
       "      <td>...</td>\n",
       "      <td>...</td>\n",
       "      <td>...</td>\n",
       "      <td>...</td>\n",
       "      <td>...</td>\n",
       "      <td>...</td>\n",
       "      <td>...</td>\n",
       "      <td>...</td>\n",
       "      <td>...</td>\n",
       "      <td>...</td>\n",
       "      <td>...</td>\n",
       "      <td>...</td>\n",
       "      <td>...</td>\n",
       "    </tr>\n",
       "    <tr>\n",
       "      <th>59995</th>\n",
       "      <td>no</td>\n",
       "      <td>5</td>\n",
       "      <td>1</td>\n",
       "      <td>0</td>\n",
       "      <td>0</td>\n",
       "      <td>0</td>\n",
       "      <td>0</td>\n",
       "      <td>0</td>\n",
       "      <td>no</td>\n",
       "      <td>no</td>\n",
       "      <td>...</td>\n",
       "      <td>0</td>\n",
       "      <td>0</td>\n",
       "      <td>0</td>\n",
       "      <td>yes</td>\n",
       "      <td>yes</td>\n",
       "      <td>11</td>\n",
       "      <td>2374</td>\n",
       "      <td>no</td>\n",
       "      <td>no</td>\n",
       "      <td>1</td>\n",
       "    </tr>\n",
       "    <tr>\n",
       "      <th>59996</th>\n",
       "      <td>no</td>\n",
       "      <td>9</td>\n",
       "      <td>12</td>\n",
       "      <td>0</td>\n",
       "      <td>78</td>\n",
       "      <td>0</td>\n",
       "      <td>59</td>\n",
       "      <td>1</td>\n",
       "      <td>yes</td>\n",
       "      <td>no</td>\n",
       "      <td>...</td>\n",
       "      <td>0</td>\n",
       "      <td>0</td>\n",
       "      <td>5</td>\n",
       "      <td>yes</td>\n",
       "      <td>no</td>\n",
       "      <td>2</td>\n",
       "      <td>1978</td>\n",
       "      <td>yes</td>\n",
       "      <td>no</td>\n",
       "      <td>1</td>\n",
       "    </tr>\n",
       "    <tr>\n",
       "      <th>59997</th>\n",
       "      <td>no</td>\n",
       "      <td>9</td>\n",
       "      <td>19</td>\n",
       "      <td>1</td>\n",
       "      <td>271</td>\n",
       "      <td>0</td>\n",
       "      <td>71</td>\n",
       "      <td>95</td>\n",
       "      <td>yes</td>\n",
       "      <td>no</td>\n",
       "      <td>...</td>\n",
       "      <td>0</td>\n",
       "      <td>0</td>\n",
       "      <td>3</td>\n",
       "      <td>no</td>\n",
       "      <td>no</td>\n",
       "      <td>2</td>\n",
       "      <td>2831</td>\n",
       "      <td>yes</td>\n",
       "      <td>yes</td>\n",
       "      <td>1</td>\n",
       "    </tr>\n",
       "    <tr>\n",
       "      <th>59998</th>\n",
       "      <td>no</td>\n",
       "      <td>10</td>\n",
       "      <td>23</td>\n",
       "      <td>0</td>\n",
       "      <td>76</td>\n",
       "      <td>6</td>\n",
       "      <td>20</td>\n",
       "      <td>107</td>\n",
       "      <td>no</td>\n",
       "      <td>no</td>\n",
       "      <td>...</td>\n",
       "      <td>0</td>\n",
       "      <td>1</td>\n",
       "      <td>0</td>\n",
       "      <td>no</td>\n",
       "      <td>no</td>\n",
       "      <td>9</td>\n",
       "      <td>3197</td>\n",
       "      <td>yes</td>\n",
       "      <td>no</td>\n",
       "      <td>1</td>\n",
       "    </tr>\n",
       "    <tr>\n",
       "      <th>59999</th>\n",
       "      <td>no</td>\n",
       "      <td>6</td>\n",
       "      <td>8</td>\n",
       "      <td>0</td>\n",
       "      <td>115</td>\n",
       "      <td>0</td>\n",
       "      <td>13</td>\n",
       "      <td>0</td>\n",
       "      <td>yes</td>\n",
       "      <td>no</td>\n",
       "      <td>...</td>\n",
       "      <td>0</td>\n",
       "      <td>0</td>\n",
       "      <td>4</td>\n",
       "      <td>no</td>\n",
       "      <td>no</td>\n",
       "      <td>11</td>\n",
       "      <td>2343</td>\n",
       "      <td>yes</td>\n",
       "      <td>no</td>\n",
       "      <td>1</td>\n",
       "    </tr>\n",
       "  </tbody>\n",
       "</table>\n",
       "<p>60000 rows × 21 columns</p>\n",
       "</div>"
      ],
      "text/plain": [
       "      converted  GameLevel  NumGameDays  NumGameDays4Plus  \\\n",
       "0            no          7           18                 0   \n",
       "1            no         10            3                 2   \n",
       "2            no          2            1                 0   \n",
       "3            no          2           11                 1   \n",
       "4            no          8           15                 0   \n",
       "...         ...        ...          ...               ...   \n",
       "59995        no          5            1                 0   \n",
       "59996        no          9           12                 0   \n",
       "59997        no          9           19                 1   \n",
       "59998        no         10           23                 0   \n",
       "59999        no          6            8                 0   \n",
       "\n",
       "       NumInGameMessagesSent  NumSpaceHeroBadges  NumFriendRequestIgnored  \\\n",
       "0                        124                   0                       81   \n",
       "1                         60                   0                       18   \n",
       "2                          0                   0                        0   \n",
       "3                        125                   0                       73   \n",
       "4                          0                   0                        6   \n",
       "...                      ...                 ...                      ...   \n",
       "59995                      0                   0                        0   \n",
       "59996                     78                   0                       59   \n",
       "59997                    271                   0                       71   \n",
       "59998                     76                   6                       20   \n",
       "59999                    115                   0                       13   \n",
       "\n",
       "       NumFriends AcquiredSpaceship AcquiredIonWeapon  ...  TimesKilled  \\\n",
       "0               0               yes                no  ...            0   \n",
       "1             479                no                no  ...            7   \n",
       "2               0                no                no  ...            0   \n",
       "3             217                no                no  ...            0   \n",
       "4              51               yes                no  ...            0   \n",
       "...           ...               ...               ...  ...          ...   \n",
       "59995           0                no                no  ...            0   \n",
       "59996           1               yes                no  ...            0   \n",
       "59997          95               yes                no  ...            0   \n",
       "59998         107                no                no  ...            0   \n",
       "59999           0               yes                no  ...            0   \n",
       "\n",
       "       TimesCaptain  TimesNavigator  PurchasedCoinPackSmall  \\\n",
       "0                 0               4                      no   \n",
       "1                 0               0                     yes   \n",
       "2                 0               2                      no   \n",
       "3                 0               0                     yes   \n",
       "4                 2               1                     yes   \n",
       "...             ...             ...                     ...   \n",
       "59995             0               0                     yes   \n",
       "59996             0               5                     yes   \n",
       "59997             0               3                      no   \n",
       "59998             1               0                      no   \n",
       "59999             0               4                      no   \n",
       "\n",
       "      PurchasedCoinPackLarge NumAdsClicked  DaysUser  UserConsole  \\\n",
       "0                        yes             3      2101           no   \n",
       "1                         no             7      1644          yes   \n",
       "2                         no             8      3197          yes   \n",
       "3                         no             6       913           no   \n",
       "4                         no            21      2009          yes   \n",
       "...                      ...           ...       ...          ...   \n",
       "59995                    yes            11      2374           no   \n",
       "59996                     no             2      1978          yes   \n",
       "59997                     no             2      2831          yes   \n",
       "59998                     no             9      3197          yes   \n",
       "59999                     no            11      2343          yes   \n",
       "\n",
       "      UserHasOldOS ad  \n",
       "0               no  0  \n",
       "1               no  0  \n",
       "2              yes  0  \n",
       "3               no  0  \n",
       "4               no  0  \n",
       "...            ... ..  \n",
       "59995           no  1  \n",
       "59996           no  1  \n",
       "59997          yes  1  \n",
       "59998           no  1  \n",
       "59999           no  1  \n",
       "\n",
       "[60000 rows x 21 columns]"
      ]
     },
     "execution_count": 8,
     "metadata": {},
     "output_type": "execute_result"
    }
   ],
   "source": [
    "# Combine the two datasets\n",
    "cg_rct_stacked = pd.concat([cg_organic_control, cg_ad_random]).reset_index(drop=True)\n",
    "cg_rct_stacked"
   ]
  },
  {
   "cell_type": "code",
   "execution_count": 9,
   "metadata": {},
   "outputs": [
    {
     "name": "stdout",
     "output_type": "stream",
     "text": [
      "1    21000\n",
      "0    21000\n",
      "Name: ad, dtype: int64\n",
      "1    9000\n",
      "0    9000\n",
      "Name: ad, dtype: int64\n"
     ]
    }
   ],
   "source": [
    "train, test = train_test_split(\n",
    "    cg_rct_stacked,\n",
    "    test_size=0.3,\n",
    "    random_state=1234,\n",
    "    stratify=cg_rct_stacked[[\"converted\", \"ad\"]]\n",
    ")\n",
    "print(train.ad.value_counts())\n",
    "print(test.ad.value_counts())\n"
   ]
  },
  {
   "cell_type": "code",
   "execution_count": 10,
   "metadata": {},
   "outputs": [],
   "source": [
    "cg_rct_stacked[\"training\"] = 0\n",
    "cg_rct_stacked.loc[train.index, \"training\"] = 1"
   ]
  },
  {
   "cell_type": "code",
   "execution_count": 11,
   "metadata": {},
   "outputs": [
    {
     "data": {
      "text/html": [
       "<div>\n",
       "<style scoped>\n",
       "    .dataframe tbody tr th:only-of-type {\n",
       "        vertical-align: middle;\n",
       "    }\n",
       "\n",
       "    .dataframe tbody tr th {\n",
       "        vertical-align: top;\n",
       "    }\n",
       "\n",
       "    .dataframe thead tr th {\n",
       "        text-align: left;\n",
       "    }\n",
       "\n",
       "    .dataframe thead tr:last-of-type th {\n",
       "        text-align: right;\n",
       "    }\n",
       "</style>\n",
       "<table border=\"1\" class=\"dataframe\">\n",
       "  <thead>\n",
       "    <tr>\n",
       "      <th>ad</th>\n",
       "      <th colspan=\"2\" halign=\"left\">0</th>\n",
       "      <th colspan=\"2\" halign=\"left\">1</th>\n",
       "    </tr>\n",
       "    <tr>\n",
       "      <th>training</th>\n",
       "      <th>0</th>\n",
       "      <th>1</th>\n",
       "      <th>0</th>\n",
       "      <th>1</th>\n",
       "    </tr>\n",
       "    <tr>\n",
       "      <th>converted</th>\n",
       "      <th></th>\n",
       "      <th></th>\n",
       "      <th></th>\n",
       "      <th></th>\n",
       "    </tr>\n",
       "  </thead>\n",
       "  <tbody>\n",
       "    <tr>\n",
       "      <th>yes</th>\n",
       "      <td>0.06</td>\n",
       "      <td>0.06</td>\n",
       "      <td>0.13</td>\n",
       "      <td>0.13</td>\n",
       "    </tr>\n",
       "    <tr>\n",
       "      <th>no</th>\n",
       "      <td>0.94</td>\n",
       "      <td>0.94</td>\n",
       "      <td>0.87</td>\n",
       "      <td>0.87</td>\n",
       "    </tr>\n",
       "  </tbody>\n",
       "</table>\n",
       "</div>"
      ],
      "text/plain": [
       "ad            0           1      \n",
       "training      0     1     0     1\n",
       "converted                        \n",
       "yes        0.06  0.06  0.13  0.13\n",
       "no         0.94  0.94  0.87  0.87"
      ]
     },
     "execution_count": 11,
     "metadata": {},
     "output_type": "execute_result"
    }
   ],
   "source": [
    "pd.crosstab(\n",
    "    cg_rct_stacked.converted, [cg_rct_stacked.ad, cg_rct_stacked.training], normalize=\"columns\"\n",
    ").round(2)"
   ]
  },
  {
   "cell_type": "code",
   "execution_count": 12,
   "metadata": {},
   "outputs": [
    {
     "data": {
      "text/html": [
       "<div>\n",
       "<style scoped>\n",
       "    .dataframe tbody tr th:only-of-type {\n",
       "        vertical-align: middle;\n",
       "    }\n",
       "\n",
       "    .dataframe tbody tr th {\n",
       "        vertical-align: top;\n",
       "    }\n",
       "\n",
       "    .dataframe thead th {\n",
       "        text-align: right;\n",
       "    }\n",
       "</style>\n",
       "<table border=\"1\" class=\"dataframe\">\n",
       "  <thead>\n",
       "    <tr style=\"text-align: right;\">\n",
       "      <th></th>\n",
       "      <th>converted</th>\n",
       "      <th>GameLevel</th>\n",
       "      <th>NumGameDays</th>\n",
       "      <th>NumGameDays4Plus</th>\n",
       "      <th>NumInGameMessagesSent</th>\n",
       "      <th>NumSpaceHeroBadges</th>\n",
       "      <th>NumFriendRequestIgnored</th>\n",
       "      <th>NumFriends</th>\n",
       "      <th>AcquiredSpaceship</th>\n",
       "      <th>AcquiredIonWeapon</th>\n",
       "      <th>...</th>\n",
       "      <th>TimesCaptain</th>\n",
       "      <th>TimesNavigator</th>\n",
       "      <th>PurchasedCoinPackSmall</th>\n",
       "      <th>PurchasedCoinPackLarge</th>\n",
       "      <th>NumAdsClicked</th>\n",
       "      <th>DaysUser</th>\n",
       "      <th>UserConsole</th>\n",
       "      <th>UserHasOldOS</th>\n",
       "      <th>ad</th>\n",
       "      <th>training</th>\n",
       "    </tr>\n",
       "  </thead>\n",
       "  <tbody>\n",
       "    <tr>\n",
       "      <th>0</th>\n",
       "      <td>no</td>\n",
       "      <td>7</td>\n",
       "      <td>18</td>\n",
       "      <td>0</td>\n",
       "      <td>124</td>\n",
       "      <td>0</td>\n",
       "      <td>81</td>\n",
       "      <td>0</td>\n",
       "      <td>yes</td>\n",
       "      <td>no</td>\n",
       "      <td>...</td>\n",
       "      <td>0</td>\n",
       "      <td>4</td>\n",
       "      <td>no</td>\n",
       "      <td>yes</td>\n",
       "      <td>3</td>\n",
       "      <td>2101</td>\n",
       "      <td>no</td>\n",
       "      <td>no</td>\n",
       "      <td>0</td>\n",
       "      <td>1</td>\n",
       "    </tr>\n",
       "    <tr>\n",
       "      <th>1</th>\n",
       "      <td>no</td>\n",
       "      <td>10</td>\n",
       "      <td>3</td>\n",
       "      <td>2</td>\n",
       "      <td>60</td>\n",
       "      <td>0</td>\n",
       "      <td>18</td>\n",
       "      <td>479</td>\n",
       "      <td>no</td>\n",
       "      <td>no</td>\n",
       "      <td>...</td>\n",
       "      <td>0</td>\n",
       "      <td>0</td>\n",
       "      <td>yes</td>\n",
       "      <td>no</td>\n",
       "      <td>7</td>\n",
       "      <td>1644</td>\n",
       "      <td>yes</td>\n",
       "      <td>no</td>\n",
       "      <td>0</td>\n",
       "      <td>1</td>\n",
       "    </tr>\n",
       "  </tbody>\n",
       "</table>\n",
       "<p>2 rows × 22 columns</p>\n",
       "</div>"
      ],
      "text/plain": [
       "  converted  GameLevel  NumGameDays  NumGameDays4Plus  NumInGameMessagesSent  \\\n",
       "0        no          7           18                 0                    124   \n",
       "1        no         10            3                 2                     60   \n",
       "\n",
       "   NumSpaceHeroBadges  NumFriendRequestIgnored  NumFriends AcquiredSpaceship  \\\n",
       "0                   0                       81           0               yes   \n",
       "1                   0                       18         479                no   \n",
       "\n",
       "  AcquiredIonWeapon  ...  TimesCaptain  TimesNavigator  \\\n",
       "0                no  ...             0               4   \n",
       "1                no  ...             0               0   \n",
       "\n",
       "   PurchasedCoinPackSmall  PurchasedCoinPackLarge NumAdsClicked DaysUser  \\\n",
       "0                      no                     yes             3     2101   \n",
       "1                     yes                      no             7     1644   \n",
       "\n",
       "   UserConsole  UserHasOldOS ad training  \n",
       "0           no            no  0        1  \n",
       "1          yes            no  0        1  \n",
       "\n",
       "[2 rows x 22 columns]"
      ]
     },
     "execution_count": 12,
     "metadata": {},
     "output_type": "execute_result"
    }
   ],
   "source": [
    "cg_rct_stacked.head(2)"
   ]
  },
  {
   "cell_type": "code",
   "execution_count": 13,
   "metadata": {},
   "outputs": [],
   "source": [
    "# create a variable called 'converted_yes' that has value 1 when converted == 'yes', has value 0 when converted == 'no' and has value np.nan when converted.isna() is True\n",
    "cg_rct_stacked[\"converted_yes\"] = np.where(cg_rct_stacked['converted'] == 'yes', \n",
    "                                        1 ,np.where(cg_rct_stacked['converted']  == 'no', 0, \n",
    "                                        np.where(cg_rct_stacked['converted'].isna(), np.nan, np.nan)))"
   ]
  },
  {
   "cell_type": "code",
   "execution_count": 14,
   "metadata": {},
   "outputs": [],
   "source": [
    "predictors = ['GameLevel', 'NumGameDays', 'NumGameDays4Plus',\n",
    "       'NumInGameMessagesSent', 'NumSpaceHeroBadges',\n",
    "       'NumFriendRequestIgnored', 'NumFriends', 'AcquiredSpaceship',\n",
    "       'AcquiredIonWeapon', 'TimesLostSpaceship', 'TimesKilled',\n",
    "       'TimesCaptain', 'TimesNavigator', 'PurchasedCoinPackSmall',\n",
    "       'PurchasedCoinPackLarge', 'NumAdsClicked', 'DaysUser', 'UserConsole',\n",
    "       'UserHasOldOS']\n",
    "response = 'converted_yes'\n",
    "\n",
    "X = cg_rct_stacked[predictors]\n",
    "y = cg_rct_stacked[response]\n",
    "\n",
    "# Create dummy variables for the categorical column\n",
    "dummies = pd.get_dummies(X, columns=['AcquiredSpaceship','AcquiredIonWeapon',\n",
    "                            'PurchasedCoinPackSmall','PurchasedCoinPackLarge',\n",
    "                            'UserConsole','UserHasOldOS'],\\\n",
    "       drop_first=True)\n",
    "# Add the dummy variables to the original DataFrame\n",
    "X = pd.concat([X, dummies], axis=1)\n",
    "X.drop(['AcquiredSpaceship','AcquiredIonWeapon','PurchasedCoinPackSmall',\n",
    "'PurchasedCoinPackLarge','UserConsole','UserHasOldOS'], axis=1, inplace=True)\n"
   ]
  },
  {
   "cell_type": "markdown",
   "metadata": {},
   "source": [
    "### baseline models: Estimate simple logistic regression models on treatment(ad==1) and control(ad==0) sample to use as a "
   ]
  },
  {
   "cell_type": "code",
   "execution_count": 15,
   "metadata": {},
   "outputs": [],
   "source": [
    "df_for_lr = pd.concat([y, X], axis=1)"
   ]
  },
  {
   "cell_type": "code",
   "execution_count": 16,
   "metadata": {},
   "outputs": [
    {
     "name": "stdout",
     "output_type": "stream",
     "text": [
      "                 Generalized Linear Model Regression Results                  \n",
      "==============================================================================\n",
      "Dep. Variable:          converted_yes   No. Observations:                21000\n",
      "Model:                            GLM   Df Residuals:                    20981\n",
      "Model Family:                Binomial   Df Model:                           18\n",
      "Link Function:                  logit   Scale:                          1.0000\n",
      "Method:                          IRLS   Log-Likelihood:                -7817.2\n",
      "Date:                Thu, 23 Feb 2023   Deviance:                       15634.\n",
      "Time:                        07:05:13   Pearson chi2:                 2.29e+04\n",
      "No. Iterations:                     6   Pseudo R-squ. (CS):            0.02946\n",
      "Covariance Type:            nonrobust                                         \n",
      "==============================================================================================\n",
      "                                 coef    std err          z      P>|z|      [0.025      0.975]\n",
      "----------------------------------------------------------------------------------------------\n",
      "GameLevel                     -0.0185      0.004     -4.720      0.000      -0.026      -0.011\n",
      "NumGameDays                    0.0030      0.002      1.792      0.073      -0.000       0.006\n",
      "NumGameDays4Plus               0.0124      0.003      3.953      0.000       0.006       0.018\n",
      "NumInGameMessagesSent      -8.879e-05      0.000     -0.706      0.480      -0.000       0.000\n",
      "NumSpaceHeroBadges             0.0107      0.005      2.306      0.021       0.002       0.020\n",
      "NumFriendRequestIgnored       -0.0010      0.000     -2.514      0.012      -0.002      -0.000\n",
      "NumFriends                     0.0005   9.91e-05      5.403      0.000       0.000       0.001\n",
      "TimesLostSpaceship            -0.0023      0.001     -1.969      0.049      -0.005   -1.12e-05\n",
      "TimesKilled                   -0.0015      0.003     -0.499      0.618      -0.007       0.004\n",
      "TimesCaptain                   0.0026      0.001      2.127      0.033       0.000       0.005\n",
      "TimesNavigator              9.398e-05      0.001      0.069      0.945      -0.003       0.003\n",
      "NumAdsClicked                  0.0380      0.001     28.426      0.000       0.035       0.041\n",
      "DaysUser                      -0.0004   1.13e-05    -34.589      0.000      -0.000      -0.000\n",
      "GameLevel                     -0.0185      0.004     -4.720      0.000      -0.026      -0.011\n",
      "NumGameDays                    0.0030      0.002      1.792      0.073      -0.000       0.006\n",
      "NumGameDays4Plus               0.0124      0.003      3.953      0.000       0.006       0.018\n",
      "NumInGameMessagesSent      -8.879e-05      0.000     -0.706      0.480      -0.000       0.000\n",
      "NumSpaceHeroBadges             0.0107      0.005      2.306      0.021       0.002       0.020\n",
      "NumFriendRequestIgnored       -0.0010      0.000     -2.514      0.012      -0.002      -0.000\n",
      "NumFriends                     0.0005   9.91e-05      5.403      0.000       0.000       0.001\n",
      "TimesLostSpaceship            -0.0023      0.001     -1.969      0.049      -0.005   -1.12e-05\n",
      "TimesKilled                   -0.0015      0.003     -0.499      0.618      -0.007       0.004\n",
      "TimesCaptain                   0.0026      0.001      2.127      0.033       0.000       0.005\n",
      "TimesNavigator              9.398e-05      0.001      0.069      0.945      -0.003       0.003\n",
      "NumAdsClicked                  0.0380      0.001     28.426      0.000       0.035       0.041\n",
      "DaysUser                      -0.0004   1.13e-05    -34.589      0.000      -0.000      -0.000\n",
      "AcquiredSpaceship_yes         -0.0040      0.048     -0.084      0.933      -0.098       0.090\n",
      "AcquiredIonWeapon_yes         -0.1627      0.162     -1.005      0.315      -0.480       0.155\n",
      "PurchasedCoinPackSmall_yes    -0.1601      0.044     -3.640      0.000      -0.246      -0.074\n",
      "PurchasedCoinPackLarge_yes     0.0355      0.048      0.747      0.455      -0.058       0.129\n",
      "UserConsole_yes               -0.4714      0.049     -9.707      0.000      -0.567      -0.376\n",
      "UserHasOldOS_yes              -0.3576      0.080     -4.448      0.000      -0.515      -0.200\n",
      "==============================================================================================\n"
     ]
    }
   ],
   "source": [
    "lr_treatment = sm.GLM(y[(cg_rct_stacked.training == 1) & (cg_rct_stacked.ad == 1)],\\\n",
    "    X[(cg_rct_stacked.training == 1) & (cg_rct_stacked.ad == 1)],\n",
    "    family=Binomial(link=logit())\n",
    ").fit()\n",
    "\n",
    "print(lr_treatment.summary())"
   ]
  },
  {
   "cell_type": "code",
   "execution_count": 17,
   "metadata": {},
   "outputs": [
    {
     "name": "stdout",
     "output_type": "stream",
     "text": [
      "\n",
      "Pseudo R-squared (McFadden): 0.039\n",
      "Pseudo R-squared (McFadden adjusted): 0.036\n",
      "Area under the RO Curve (AUC): 0.651\n",
      "Log-likelihood: -7817.221, AIC: 15672.441, BIC: 15823.535\n",
      "Chi-squared: 22904.784 df(18), p.value < 0.001 \n",
      "Nr obs: 21,000\n",
      "\n",
      "None\n"
     ]
    }
   ],
   "source": [
    "print(rsm.model_fit(lr_treatment))"
   ]
  },
  {
   "cell_type": "code",
   "execution_count": 18,
   "metadata": {},
   "outputs": [
    {
     "name": "stdout",
     "output_type": "stream",
     "text": [
      "                 Generalized Linear Model Regression Results                  \n",
      "==============================================================================\n",
      "Dep. Variable:          converted_yes   No. Observations:                21000\n",
      "Model:                            GLM   Df Residuals:                    20981\n",
      "Model Family:                Binomial   Df Model:                           18\n",
      "Link Function:                  logit   Scale:                          1.0000\n",
      "Method:                          IRLS   Log-Likelihood:                -4090.8\n",
      "Date:                Thu, 23 Feb 2023   Deviance:                       8181.6\n",
      "Time:                        07:05:14   Pearson chi2:                 4.98e+04\n",
      "No. Iterations:                     7   Pseudo R-squ. (CS):            0.04578\n",
      "Covariance Type:            nonrobust                                         \n",
      "==============================================================================================\n",
      "                                 coef    std err          z      P>|z|      [0.025      0.975]\n",
      "----------------------------------------------------------------------------------------------\n",
      "GameLevel                     -0.0161      0.006     -2.770      0.006      -0.028      -0.005\n",
      "NumGameDays                    0.0079      0.002      3.147      0.002       0.003       0.013\n",
      "NumGameDays4Plus               0.0317      0.004      7.605      0.000       0.024       0.040\n",
      "NumInGameMessagesSent          0.0005      0.000      2.866      0.004       0.000       0.001\n",
      "NumSpaceHeroBadges             0.2142      0.006     33.051      0.000       0.202       0.227\n",
      "NumFriendRequestIgnored       -0.0066      0.001    -10.306      0.000      -0.008      -0.005\n",
      "NumFriends                     0.0002      0.000      1.625      0.104   -4.94e-05       0.001\n",
      "TimesLostSpaceship            -0.0248      0.003     -8.388      0.000      -0.031      -0.019\n",
      "TimesKilled                    0.0013      0.003      0.438      0.661      -0.005       0.007\n",
      "TimesCaptain                  -0.0004      0.002     -0.268      0.789      -0.004       0.003\n",
      "TimesNavigator                -0.0057      0.002     -2.355      0.019      -0.010      -0.001\n",
      "NumAdsClicked                  0.0035      0.002      1.831      0.067      -0.000       0.007\n",
      "DaysUser                      -0.0005   1.71e-05    -29.522      0.000      -0.001      -0.000\n",
      "GameLevel                     -0.0161      0.006     -2.770      0.006      -0.028      -0.005\n",
      "NumGameDays                    0.0079      0.002      3.147      0.002       0.003       0.013\n",
      "NumGameDays4Plus               0.0317      0.004      7.605      0.000       0.024       0.040\n",
      "NumInGameMessagesSent          0.0005      0.000      2.866      0.004       0.000       0.001\n",
      "NumSpaceHeroBadges             0.2142      0.006     33.051      0.000       0.202       0.227\n",
      "NumFriendRequestIgnored       -0.0066      0.001    -10.306      0.000      -0.008      -0.005\n",
      "NumFriends                     0.0002      0.000      1.625      0.104   -4.94e-05       0.001\n",
      "TimesLostSpaceship            -0.0248      0.003     -8.388      0.000      -0.031      -0.019\n",
      "TimesKilled                    0.0013      0.003      0.438      0.661      -0.005       0.007\n",
      "TimesCaptain                  -0.0004      0.002     -0.268      0.789      -0.004       0.003\n",
      "TimesNavigator                -0.0057      0.002     -2.355      0.019      -0.010      -0.001\n",
      "NumAdsClicked                  0.0035      0.002      1.831      0.067      -0.000       0.007\n",
      "DaysUser                      -0.0005   1.71e-05    -29.522      0.000      -0.001      -0.000\n",
      "AcquiredSpaceship_yes          0.2811      0.069      4.073      0.000       0.146       0.416\n",
      "AcquiredIonWeapon_yes         -0.4036      0.271     -1.488      0.137      -0.935       0.128\n",
      "PurchasedCoinPackSmall_yes    -0.2599      0.066     -3.930      0.000      -0.390      -0.130\n",
      "PurchasedCoinPackLarge_yes     0.0783      0.071      1.101      0.271      -0.061       0.218\n",
      "UserConsole_yes               -0.4612      0.070     -6.576      0.000      -0.599      -0.324\n",
      "UserHasOldOS_yes              -0.3734      0.123     -3.023      0.003      -0.615      -0.131\n",
      "==============================================================================================\n"
     ]
    }
   ],
   "source": [
    "lr_control = sm.GLM(y[(cg_rct_stacked.training == 1) & (cg_rct_stacked.ad == 0)],\\\n",
    "    X[(cg_rct_stacked.training == 1) & (cg_rct_stacked.ad == 0)],\n",
    "    family=Binomial(link=logit())\n",
    ").fit()\n",
    "\n",
    "print(lr_control.summary())"
   ]
  },
  {
   "cell_type": "code",
   "execution_count": 19,
   "metadata": {},
   "outputs": [
    {
     "name": "stdout",
     "output_type": "stream",
     "text": [
      "\n",
      "Pseudo R-squared (McFadden): 0.107\n",
      "Pseudo R-squared (McFadden adjusted): 0.103\n",
      "Area under the RO Curve (AUC): 0.726\n",
      "Log-likelihood: -4090.812, AIC: 8219.623, BIC: 8370.716\n",
      "Chi-squared: 49785.705 df(18), p.value < 0.001 \n",
      "Nr obs: 21,000\n",
      "\n",
      "None\n"
     ]
    }
   ],
   "source": [
    "print(rsm.model_fit(lr_control))"
   ]
  },
  {
   "cell_type": "code",
   "execution_count": 20,
   "metadata": {},
   "outputs": [],
   "source": [
    "cg_rct_stacked[\"pred_treatment_lr\"] = lr_treatment.predict(X)\n",
    "cg_rct_stacked[\"pred_control_lr\"] = lr_control.predict(X)"
   ]
  },
  {
   "cell_type": "code",
   "execution_count": 21,
   "metadata": {},
   "outputs": [
    {
     "name": "stdout",
     "output_type": "stream",
     "text": [
      "test_lr_treatment_auc AUC: 0.6332815395847764\n",
      "test_lr_control_auc AUC: 0.705106197720311\n"
     ]
    }
   ],
   "source": [
    "cond_ad_test = (cg_rct_stacked.training == 0) & (cg_rct_stacked.ad == 1)\n",
    "cond_control_test = (cg_rct_stacked.training == 0) & (cg_rct_stacked.ad == 0)\n",
    "\n",
    "test_lr_treatment_auc = rsm.auc(cg_rct_stacked[cond_ad_test].converted_yes, \n",
    "                                cg_rct_stacked[cond_ad_test].pred_treatment_lr, 1)\n",
    "\n",
    "test_lr_control_auc = rsm.auc(cg_rct_stacked[cond_control_test].converted_yes, \n",
    "                        cg_rct_stacked[cond_control_test].pred_control_lr, 1)\n",
    "                        \n",
    "print('test_lr_treatment_auc AUC:', test_lr_treatment_auc)\n",
    "print('test_lr_control_auc AUC:', test_lr_control_auc)"
   ]
  },
  {
   "cell_type": "markdown",
   "metadata": {},
   "source": [
    "#### Train a random forest model on rf_treatment ad==1"
   ]
  },
  {
   "cell_type": "code",
   "execution_count": 22,
   "metadata": {},
   "outputs": [
    {
     "data": {
      "text/plain": [
       "0.7716916523320058"
      ]
     },
     "execution_count": 22,
     "metadata": {},
     "output_type": "execute_result"
    }
   ],
   "source": [
    "# Initialize the Random Forest classifier with default parameters\n",
    "rf_treatment = RandomForestClassifier()\n",
    "\n",
    "# Define a parameter grid containing the hyperparameters to be tuned using grid search\n",
    "param_grid = {\n",
    "    'n_estimators': [100, 300, 500],\n",
    "    'max_features': range(5,10) # use array of numbers, most influential parameter between 3 and 10\n",
    "}\n",
    "\n",
    "# # Create an instance of the GridSearchCV() class and pass the random forest model and parameter grid as arguments\n",
    "# grid_search = GridSearchCV(rf_treatment, param_grid, cv=5)\n",
    "\n",
    "# # Fit the grid search object to the training data\n",
    "# grid_search.fit(X[(cg_rct_stacked.training == 1) & (cg_rct_stacked.ad == 1)], \n",
    "#                 y[(cg_rct_stacked.training == 1) & (cg_rct_stacked.ad == 1)])\n",
    "\n",
    "# # Get the best parameters\n",
    "# best_parameters = grid_search.best_params_\n",
    "# print(best_parameters)\n",
    "\n",
    "# rf_treatment = RandomForestClassifier(n_estimators=best_parameters['n_estimators'],\n",
    "#                     max_depth=5,\n",
    "#                     max_features=best_parameters['max_features'],\n",
    "#                     oob_score = True,\n",
    "#                     n_jobs = -1)\n",
    "\n",
    "rf_treatment = RandomForestClassifier(n_estimators=500,\n",
    "                    max_depth=5,\n",
    "                    max_features=6,\n",
    "                    oob_score = True,\n",
    "                    n_jobs = -1)\n",
    "\n",
    "# Train the model on the training data\n",
    "rf_treatment.fit(X[(cg_rct_stacked.training == 1) & (cg_rct_stacked.ad == 1)],\n",
    "                y[(cg_rct_stacked.training == 1) & (cg_rct_stacked.ad == 1)])\n",
    "\n",
    "pred = rf_treatment.oob_decision_function_\n",
    "\n",
    "fpr, tpr, thresholds = metrics.roc_curve(y[(cg_rct_stacked.training == 1) & (cg_rct_stacked.ad == 1)], \n",
    "                                        pred[:, 1])\n",
    "auc_rf = metrics.auc(fpr, tpr)\n",
    "auc_rf"
   ]
  },
  {
   "cell_type": "markdown",
   "metadata": {},
   "source": [
    "#### rf_control ad==0"
   ]
  },
  {
   "cell_type": "code",
   "execution_count": 23,
   "metadata": {},
   "outputs": [
    {
     "data": {
      "text/plain": [
       "0.8699381910731753"
      ]
     },
     "execution_count": 23,
     "metadata": {},
     "output_type": "execute_result"
    }
   ],
   "source": [
    "# Initialize the Random Forest classifier with default parameters\n",
    "rf_control = RandomForestClassifier()\n",
    "\n",
    "# Define a parameter grid containing the hyperparameters to be tuned using grid search\n",
    "param_grid = {\n",
    "    'n_estimators': [100, 300, 500],\n",
    "    'max_features': range(5,10)\n",
    "}\n",
    "\n",
    "# # Create an instance of the GridSearchCV() class and pass the random forest model and parameter grid as arguments\n",
    "# grid_search = GridSearchCV(rf_control, param_grid, cv=5)\n",
    "\n",
    "# # Fit the grid search object to the training data\n",
    "# grid_search.fit(X[(cg_rct_stacked.training == 1) & (cg_rct_stacked.ad == 0)], y[(cg_rct_stacked.training == 1) & (cg_rct_stacked.ad == 0)])\n",
    "\n",
    "# # Get the best parameters\n",
    "# best_parameters = grid_search.best_params_\n",
    "# print(best_parameters)\n",
    "\n",
    "# rf_control = RandomForestClassifier(n_estimators=best_parameters['n_estimators'],\n",
    "#                     max_depth=5,\n",
    "#                     max_features=best_parameters['max_features'],\n",
    "#                     oob_score = True,\n",
    "#                     n_jobs = -1)\n",
    "\n",
    "rf_control = RandomForestClassifier(n_estimators=500,\n",
    "                    max_depth=5,\n",
    "                    max_features=6,\n",
    "                    oob_score = True,\n",
    "                    n_jobs = -1)\n",
    "\n",
    "\n",
    "# Train the model on the training data\n",
    "rf_control.fit(X[(cg_rct_stacked.training == 1) & (cg_rct_stacked.ad == 0)],\n",
    "                    y[(cg_rct_stacked.training == 1) & (cg_rct_stacked.ad == 0)])\n",
    "\n",
    "pred = rf_control.oob_decision_function_\n",
    "\n",
    "fpr, tpr, thresholds = metrics.roc_curve(y[(cg_rct_stacked.training == 1) & (cg_rct_stacked.ad == 0)], \n",
    "                                        pred[:, 1])\n",
    "auc_rf = metrics.auc(fpr, tpr)\n",
    "auc_rf"
   ]
  },
  {
   "cell_type": "code",
   "execution_count": 24,
   "metadata": {},
   "outputs": [],
   "source": [
    "cg_rct_stacked[\"pred_treatment\"] =rf_treatment.predict_proba(X)[:,1]\n",
    "cg_rct_stacked[\"pred_control\"] =rf_control.predict_proba(X)[:,1]"
   ]
  },
  {
   "cell_type": "markdown",
   "metadata": {},
   "source": [
    "AUC for random forest on test sets for treatment and control"
   ]
  },
  {
   "cell_type": "code",
   "execution_count": 25,
   "metadata": {},
   "outputs": [
    {
     "name": "stdout",
     "output_type": "stream",
     "text": [
      "test RF treatment_auc AUC: 0.7678853870664814\n",
      "test RF control_auc AUC: 0.8666398518496701\n"
     ]
    }
   ],
   "source": [
    "cond_ad_test = (cg_rct_stacked.training == 0) & (cg_rct_stacked.ad == 1)\n",
    "cond_control_test = (cg_rct_stacked.training == 0) & (cg_rct_stacked.ad == 0)\n",
    "\n",
    "test_lr_treatment_auc = rsm.auc(cg_rct_stacked[cond_ad_test].converted_yes, \n",
    "                                cg_rct_stacked[cond_ad_test].pred_treatment, 1)\n",
    "\n",
    "test_lr_control_auc = rsm.auc(cg_rct_stacked[cond_control_test].converted_yes, \n",
    "                        cg_rct_stacked[cond_control_test].pred_control, 1)\n",
    "                        \n",
    "print('test RF treatment_auc AUC:', test_lr_treatment_auc)\n",
    "print('test RF control_auc AUC:', test_lr_control_auc)"
   ]
  },
  {
   "cell_type": "markdown",
   "metadata": {},
   "source": [
    "Check the fit of the models using gains plot"
   ]
  },
  {
   "cell_type": "code",
   "execution_count": 26,
   "metadata": {},
   "outputs": [
    {
     "data": {
      "image/png": "[encoded data removed]",
      "text/plain": [
       "<Figure size 640x480 with 1 Axes>"
      ]
     },
     "metadata": {},
     "output_type": "display_data"
    }
   ],
   "source": [
    "fig_train = rsm.gains_plot(cg_rct_stacked.query(\"training == 1 and ad == 0\"),rvar='converted_yes',\n",
    "lev=1,pred='pred_control',qnt=10, label = \"training\")\n",
    "fig_test = rsm.gains_plot(cg_rct_stacked.query(\"training == 0 and ad == 0\"),rvar='converted_yes',\n",
    "lev=1,pred='pred_control',qnt=10, label = \"test\")\n",
    "plt.title('Control Group: Gains vs. Proportion of Customers')\n",
    "plt.show()"
   ]
  },
  {
   "cell_type": "code",
   "execution_count": 27,
   "metadata": {},
   "outputs": [
    {
     "data": {
      "image/png": "[encoded data removed]",
      "text/plain": [
       "<Figure size 640x480 with 1 Axes>"
      ]
     },
     "metadata": {},
     "output_type": "display_data"
    }
   ],
   "source": [
    "fig_train = rsm.gains_plot(cg_rct_stacked.query(\"training == 1 and ad == 1\"),rvar='converted_yes',\n",
    "lev=1,pred='pred_treatment',qnt=10, label = \"training\")\n",
    "fig_test = rsm.gains_plot(cg_rct_stacked.query(\"training == 0 and ad == 1\"),rvar='converted_yes',\n",
    "lev=1,pred='pred_treatment',qnt=10, label = \"test\")\n",
    "plt.title('Treatment Group: Gains vs. Proportion of Customers')\n",
    "plt.show()"
   ]
  },
  {
   "cell_type": "markdown",
   "metadata": {},
   "source": [
    "We got the best fits for train and test for both treatment and control groups using gridsearch on RF classifier models. We will now proceed to uplift calculations"
   ]
  },
  {
   "cell_type": "markdown",
   "metadata": {},
   "source": [
    "#### Create predictions and the uplift score for each customer in the test data \n",
    "\n",
    "For each customer in the test data (regardless of whether they were in the treatment group or the control group), we get `Prob(yes | treated)` and `Prob(yes | not treated)` from the above models and then take their difference (i.e., the uplift score):"
   ]
  },
  {
   "cell_type": "code",
   "execution_count": 28,
   "metadata": {},
   "outputs": [],
   "source": [
    "cg_rct_stacked[\"uplift_score\"] = (\n",
    "    cg_rct_stacked.pred_treatment - cg_rct_stacked.pred_control\n",
    ")"
   ]
  },
  {
   "cell_type": "code",
   "execution_count": 29,
   "metadata": {},
   "outputs": [
    {
     "data": {
      "text/html": [
       "<div>\n",
       "<style scoped>\n",
       "    .dataframe tbody tr th:only-of-type {\n",
       "        vertical-align: middle;\n",
       "    }\n",
       "\n",
       "    .dataframe tbody tr th {\n",
       "        vertical-align: top;\n",
       "    }\n",
       "\n",
       "    .dataframe thead th {\n",
       "        text-align: right;\n",
       "    }\n",
       "</style>\n",
       "<table border=\"1\" class=\"dataframe\">\n",
       "  <thead>\n",
       "    <tr style=\"text-align: right;\">\n",
       "      <th></th>\n",
       "      <th>converted</th>\n",
       "      <th>GameLevel</th>\n",
       "      <th>NumGameDays</th>\n",
       "      <th>NumGameDays4Plus</th>\n",
       "      <th>NumInGameMessagesSent</th>\n",
       "      <th>NumSpaceHeroBadges</th>\n",
       "      <th>NumFriendRequestIgnored</th>\n",
       "      <th>NumFriends</th>\n",
       "      <th>AcquiredSpaceship</th>\n",
       "      <th>AcquiredIonWeapon</th>\n",
       "      <th>...</th>\n",
       "      <th>UserConsole</th>\n",
       "      <th>UserHasOldOS</th>\n",
       "      <th>ad</th>\n",
       "      <th>training</th>\n",
       "      <th>converted_yes</th>\n",
       "      <th>pred_treatment_lr</th>\n",
       "      <th>pred_control_lr</th>\n",
       "      <th>pred_treatment</th>\n",
       "      <th>pred_control</th>\n",
       "      <th>uplift_score</th>\n",
       "    </tr>\n",
       "  </thead>\n",
       "  <tbody>\n",
       "    <tr>\n",
       "      <th>0</th>\n",
       "      <td>no</td>\n",
       "      <td>7</td>\n",
       "      <td>18</td>\n",
       "      <td>0</td>\n",
       "      <td>124</td>\n",
       "      <td>0</td>\n",
       "      <td>81</td>\n",
       "      <td>0</td>\n",
       "      <td>yes</td>\n",
       "      <td>no</td>\n",
       "      <td>...</td>\n",
       "      <td>no</td>\n",
       "      <td>no</td>\n",
       "      <td>0</td>\n",
       "      <td>1</td>\n",
       "      <td>0.0</td>\n",
       "      <td>0.147395</td>\n",
       "      <td>0.045323</td>\n",
       "      <td>0.023282</td>\n",
       "      <td>0.007452</td>\n",
       "      <td>0.015830</td>\n",
       "    </tr>\n",
       "    <tr>\n",
       "      <th>1</th>\n",
       "      <td>no</td>\n",
       "      <td>10</td>\n",
       "      <td>3</td>\n",
       "      <td>2</td>\n",
       "      <td>60</td>\n",
       "      <td>0</td>\n",
       "      <td>18</td>\n",
       "      <td>479</td>\n",
       "      <td>no</td>\n",
       "      <td>no</td>\n",
       "      <td>...</td>\n",
       "      <td>yes</td>\n",
       "      <td>no</td>\n",
       "      <td>0</td>\n",
       "      <td>1</td>\n",
       "      <td>0.0</td>\n",
       "      <td>0.215640</td>\n",
       "      <td>0.052438</td>\n",
       "      <td>0.191083</td>\n",
       "      <td>0.068536</td>\n",
       "      <td>0.122548</td>\n",
       "    </tr>\n",
       "  </tbody>\n",
       "</table>\n",
       "<p>2 rows × 28 columns</p>\n",
       "</div>"
      ],
      "text/plain": [
       "  converted  GameLevel  NumGameDays  NumGameDays4Plus  NumInGameMessagesSent  \\\n",
       "0        no          7           18                 0                    124   \n",
       "1        no         10            3                 2                     60   \n",
       "\n",
       "   NumSpaceHeroBadges  NumFriendRequestIgnored  NumFriends AcquiredSpaceship  \\\n",
       "0                   0                       81           0               yes   \n",
       "1                   0                       18         479                no   \n",
       "\n",
       "  AcquiredIonWeapon  ...  UserConsole  UserHasOldOS  ad  training  \\\n",
       "0                no  ...           no            no   0         1   \n",
       "1                no  ...          yes            no   0         1   \n",
       "\n",
       "  converted_yes pred_treatment_lr  pred_control_lr  pred_treatment  \\\n",
       "0           0.0          0.147395         0.045323        0.023282   \n",
       "1           0.0          0.215640         0.052438        0.191083   \n",
       "\n",
       "  pred_control uplift_score  \n",
       "0     0.007452     0.015830  \n",
       "1     0.068536     0.122548  \n",
       "\n",
       "[2 rows x 28 columns]"
      ]
     },
     "execution_count": 29,
     "metadata": {},
     "output_type": "execute_result"
    }
   ],
   "source": [
    "cg_rct_stacked.head(2)"
   ]
  },
  {
   "cell_type": "markdown",
   "metadata": {},
   "source": [
    "Sort the data on uplift score from highest to lowest and select a few key columns."
   ]
  },
  {
   "cell_type": "code",
   "execution_count": 30,
   "metadata": {},
   "outputs": [
    {
     "data": {
      "text/html": [
       "<div>\n",
       "<style scoped>\n",
       "    .dataframe tbody tr th:only-of-type {\n",
       "        vertical-align: middle;\n",
       "    }\n",
       "\n",
       "    .dataframe tbody tr th {\n",
       "        vertical-align: top;\n",
       "    }\n",
       "\n",
       "    .dataframe thead th {\n",
       "        text-align: right;\n",
       "    }\n",
       "</style>\n",
       "<table border=\"1\" class=\"dataframe\">\n",
       "  <thead>\n",
       "    <tr style=\"text-align: right;\">\n",
       "      <th></th>\n",
       "      <th>converted</th>\n",
       "      <th>ad</th>\n",
       "      <th>training</th>\n",
       "      <th>pred_treatment</th>\n",
       "      <th>pred_control</th>\n",
       "      <th>uplift_score</th>\n",
       "    </tr>\n",
       "  </thead>\n",
       "  <tbody>\n",
       "    <tr>\n",
       "      <th>2299</th>\n",
       "      <td>no</td>\n",
       "      <td>0</td>\n",
       "      <td>0</td>\n",
       "      <td>0.599143</td>\n",
       "      <td>0.108663</td>\n",
       "      <td>0.490480</td>\n",
       "    </tr>\n",
       "    <tr>\n",
       "      <th>8278</th>\n",
       "      <td>yes</td>\n",
       "      <td>0</td>\n",
       "      <td>0</td>\n",
       "      <td>0.612684</td>\n",
       "      <td>0.126138</td>\n",
       "      <td>0.486546</td>\n",
       "    </tr>\n",
       "    <tr>\n",
       "      <th>30469</th>\n",
       "      <td>yes</td>\n",
       "      <td>1</td>\n",
       "      <td>0</td>\n",
       "      <td>0.608567</td>\n",
       "      <td>0.123991</td>\n",
       "      <td>0.484576</td>\n",
       "    </tr>\n",
       "    <tr>\n",
       "      <th>7625</th>\n",
       "      <td>no</td>\n",
       "      <td>0</td>\n",
       "      <td>0</td>\n",
       "      <td>0.561100</td>\n",
       "      <td>0.079146</td>\n",
       "      <td>0.481954</td>\n",
       "    </tr>\n",
       "    <tr>\n",
       "      <th>4982</th>\n",
       "      <td>no</td>\n",
       "      <td>0</td>\n",
       "      <td>0</td>\n",
       "      <td>0.581381</td>\n",
       "      <td>0.099467</td>\n",
       "      <td>0.481913</td>\n",
       "    </tr>\n",
       "    <tr>\n",
       "      <th>...</th>\n",
       "      <td>...</td>\n",
       "      <td>...</td>\n",
       "      <td>...</td>\n",
       "      <td>...</td>\n",
       "      <td>...</td>\n",
       "      <td>...</td>\n",
       "    </tr>\n",
       "    <tr>\n",
       "      <th>603</th>\n",
       "      <td>yes</td>\n",
       "      <td>0</td>\n",
       "      <td>0</td>\n",
       "      <td>0.135799</td>\n",
       "      <td>0.538901</td>\n",
       "      <td>-0.403101</td>\n",
       "    </tr>\n",
       "    <tr>\n",
       "      <th>43236</th>\n",
       "      <td>no</td>\n",
       "      <td>1</td>\n",
       "      <td>0</td>\n",
       "      <td>0.136776</td>\n",
       "      <td>0.540355</td>\n",
       "      <td>-0.403579</td>\n",
       "    </tr>\n",
       "    <tr>\n",
       "      <th>44411</th>\n",
       "      <td>no</td>\n",
       "      <td>1</td>\n",
       "      <td>0</td>\n",
       "      <td>0.136531</td>\n",
       "      <td>0.547934</td>\n",
       "      <td>-0.411403</td>\n",
       "    </tr>\n",
       "    <tr>\n",
       "      <th>53293</th>\n",
       "      <td>no</td>\n",
       "      <td>1</td>\n",
       "      <td>0</td>\n",
       "      <td>0.126544</td>\n",
       "      <td>0.544776</td>\n",
       "      <td>-0.418232</td>\n",
       "    </tr>\n",
       "    <tr>\n",
       "      <th>33374</th>\n",
       "      <td>no</td>\n",
       "      <td>1</td>\n",
       "      <td>0</td>\n",
       "      <td>0.132280</td>\n",
       "      <td>0.555836</td>\n",
       "      <td>-0.423556</td>\n",
       "    </tr>\n",
       "  </tbody>\n",
       "</table>\n",
       "<p>18000 rows × 6 columns</p>\n",
       "</div>"
      ],
      "text/plain": [
       "      converted  ad  training  pred_treatment  pred_control  uplift_score\n",
       "2299         no   0         0        0.599143      0.108663      0.490480\n",
       "8278        yes   0         0        0.612684      0.126138      0.486546\n",
       "30469       yes   1         0        0.608567      0.123991      0.484576\n",
       "7625         no   0         0        0.561100      0.079146      0.481954\n",
       "4982         no   0         0        0.581381      0.099467      0.481913\n",
       "...         ...  ..       ...             ...           ...           ...\n",
       "603         yes   0         0        0.135799      0.538901     -0.403101\n",
       "43236        no   1         0        0.136776      0.540355     -0.403579\n",
       "44411        no   1         0        0.136531      0.547934     -0.411403\n",
       "53293        no   1         0        0.126544      0.544776     -0.418232\n",
       "33374        no   1         0        0.132280      0.555836     -0.423556\n",
       "\n",
       "[18000 rows x 6 columns]"
      ]
     },
     "execution_count": 30,
     "metadata": {},
     "output_type": "execute_result"
    }
   ],
   "source": [
    "(\n",
    "    cg_rct_stacked[\n",
    "        [\"converted\", \"ad\", \"training\", \"pred_treatment\", \"pred_control\", \"uplift_score\"]\n",
    "    ]\n",
    "    .query(\"training == 0\")\n",
    "    .sort_values(\"uplift_score\", ascending=False)\n",
    ")"
   ]
  },
  {
   "cell_type": "markdown",
   "metadata": {},
   "source": [
    "### Evaluate the performance of the uplift model"
   ]
  },
  {
   "cell_type": "code",
   "execution_count": 31,
   "metadata": {},
   "outputs": [],
   "source": [
    "# def uplift_tab(df, rvar, lev, pred, tvar, tlev, qnt=10):\n",
    "    # Parameters\n",
    "    # ----------\n",
    "    # df : Pandas dataframe\n",
    "    # rvar : str\n",
    "    #     Name of the response variable column in df\n",
    "    # lev : str\n",
    "    #     Name of the 'success' level in rvar\n",
    "    # pred : str\n",
    "    #     Name of the column in df with model predictions\n",
    "    # tvar : str\n",
    "    #     Name of the treatment variable column in df\n",
    "    # tlev : str\n",
    "    #     Name of the 'success' level in tvar\n",
    "    # qnt : int\n",
    "    #     Number of quantiles to create"
   ]
  },
  {
   "cell_type": "code",
   "execution_count": 32,
   "metadata": {},
   "outputs": [
    {
     "data": {
      "text/html": [
       "<div>\n",
       "<style scoped>\n",
       "    .dataframe tbody tr th:only-of-type {\n",
       "        vertical-align: middle;\n",
       "    }\n",
       "\n",
       "    .dataframe tbody tr th {\n",
       "        vertical-align: top;\n",
       "    }\n",
       "\n",
       "    .dataframe thead th {\n",
       "        text-align: right;\n",
       "    }\n",
       "</style>\n",
       "<table border=\"1\" class=\"dataframe\">\n",
       "  <thead>\n",
       "    <tr style=\"text-align: right;\">\n",
       "      <th></th>\n",
       "      <th>pred</th>\n",
       "      <th>bins</th>\n",
       "      <th>cum_prop</th>\n",
       "      <th>T_resp</th>\n",
       "      <th>T_n</th>\n",
       "      <th>C_resp</th>\n",
       "      <th>C_n</th>\n",
       "      <th>incremental_resp</th>\n",
       "      <th>inc_uplift</th>\n",
       "      <th>uplift</th>\n",
       "    </tr>\n",
       "  </thead>\n",
       "  <tbody>\n",
       "    <tr>\n",
       "      <th>0</th>\n",
       "      <td>uplift_score</td>\n",
       "      <td>1</td>\n",
       "      <td>0.05</td>\n",
       "      <td>207</td>\n",
       "      <td>450</td>\n",
       "      <td>72</td>\n",
       "      <td>592</td>\n",
       "      <td>152.270270</td>\n",
       "      <td>1.691892</td>\n",
       "      <td>0.338378</td>\n",
       "    </tr>\n",
       "    <tr>\n",
       "      <th>1</th>\n",
       "      <td>uplift_score</td>\n",
       "      <td>2</td>\n",
       "      <td>0.10</td>\n",
       "      <td>341</td>\n",
       "      <td>900</td>\n",
       "      <td>96</td>\n",
       "      <td>1132</td>\n",
       "      <td>264.674912</td>\n",
       "      <td>2.940832</td>\n",
       "      <td>0.253333</td>\n",
       "    </tr>\n",
       "    <tr>\n",
       "      <th>2</th>\n",
       "      <td>uplift_score</td>\n",
       "      <td>3</td>\n",
       "      <td>0.15</td>\n",
       "      <td>442</td>\n",
       "      <td>1350</td>\n",
       "      <td>115</td>\n",
       "      <td>1687</td>\n",
       "      <td>349.972733</td>\n",
       "      <td>3.888586</td>\n",
       "      <td>0.190210</td>\n",
       "    </tr>\n",
       "    <tr>\n",
       "      <th>3</th>\n",
       "      <td>uplift_score</td>\n",
       "      <td>4</td>\n",
       "      <td>0.20</td>\n",
       "      <td>565</td>\n",
       "      <td>1800</td>\n",
       "      <td>153</td>\n",
       "      <td>2249</td>\n",
       "      <td>442.545576</td>\n",
       "      <td>4.917173</td>\n",
       "      <td>0.205718</td>\n",
       "    </tr>\n",
       "    <tr>\n",
       "      <th>4</th>\n",
       "      <td>uplift_score</td>\n",
       "      <td>5</td>\n",
       "      <td>0.25</td>\n",
       "      <td>655</td>\n",
       "      <td>2250</td>\n",
       "      <td>181</td>\n",
       "      <td>2675</td>\n",
       "      <td>502.757009</td>\n",
       "      <td>5.586189</td>\n",
       "      <td>0.134272</td>\n",
       "    </tr>\n",
       "    <tr>\n",
       "      <th>5</th>\n",
       "      <td>uplift_score</td>\n",
       "      <td>6</td>\n",
       "      <td>0.30</td>\n",
       "      <td>721</td>\n",
       "      <td>2700</td>\n",
       "      <td>197</td>\n",
       "      <td>3187</td>\n",
       "      <td>554.103232</td>\n",
       "      <td>6.156703</td>\n",
       "      <td>0.115417</td>\n",
       "    </tr>\n",
       "    <tr>\n",
       "      <th>6</th>\n",
       "      <td>uplift_score</td>\n",
       "      <td>7</td>\n",
       "      <td>0.35</td>\n",
       "      <td>773</td>\n",
       "      <td>3150</td>\n",
       "      <td>211</td>\n",
       "      <td>3648</td>\n",
       "      <td>590.804276</td>\n",
       "      <td>6.564492</td>\n",
       "      <td>0.085187</td>\n",
       "    </tr>\n",
       "    <tr>\n",
       "      <th>7</th>\n",
       "      <td>uplift_score</td>\n",
       "      <td>8</td>\n",
       "      <td>0.40</td>\n",
       "      <td>813</td>\n",
       "      <td>3600</td>\n",
       "      <td>226</td>\n",
       "      <td>4206</td>\n",
       "      <td>619.562054</td>\n",
       "      <td>6.884023</td>\n",
       "      <td>0.062007</td>\n",
       "    </tr>\n",
       "    <tr>\n",
       "      <th>8</th>\n",
       "      <td>uplift_score</td>\n",
       "      <td>9</td>\n",
       "      <td>0.45</td>\n",
       "      <td>861</td>\n",
       "      <td>4050</td>\n",
       "      <td>239</td>\n",
       "      <td>4698</td>\n",
       "      <td>654.965517</td>\n",
       "      <td>7.277395</td>\n",
       "      <td>0.080244</td>\n",
       "    </tr>\n",
       "    <tr>\n",
       "      <th>9</th>\n",
       "      <td>uplift_score</td>\n",
       "      <td>10</td>\n",
       "      <td>0.50</td>\n",
       "      <td>906</td>\n",
       "      <td>4500</td>\n",
       "      <td>253</td>\n",
       "      <td>5186</td>\n",
       "      <td>686.466641</td>\n",
       "      <td>7.627407</td>\n",
       "      <td>0.071311</td>\n",
       "    </tr>\n",
       "    <tr>\n",
       "      <th>10</th>\n",
       "      <td>uplift_score</td>\n",
       "      <td>11</td>\n",
       "      <td>0.55</td>\n",
       "      <td>977</td>\n",
       "      <td>4950</td>\n",
       "      <td>311</td>\n",
       "      <td>5677</td>\n",
       "      <td>705.826845</td>\n",
       "      <td>7.842521</td>\n",
       "      <td>0.039652</td>\n",
       "    </tr>\n",
       "    <tr>\n",
       "      <th>11</th>\n",
       "      <td>uplift_score</td>\n",
       "      <td>12</td>\n",
       "      <td>0.60</td>\n",
       "      <td>992</td>\n",
       "      <td>5400</td>\n",
       "      <td>315</td>\n",
       "      <td>6158</td>\n",
       "      <td>715.773953</td>\n",
       "      <td>7.953044</td>\n",
       "      <td>0.025017</td>\n",
       "    </tr>\n",
       "    <tr>\n",
       "      <th>12</th>\n",
       "      <td>uplift_score</td>\n",
       "      <td>13</td>\n",
       "      <td>0.65</td>\n",
       "      <td>1009</td>\n",
       "      <td>5850</td>\n",
       "      <td>316</td>\n",
       "      <td>6547</td>\n",
       "      <td>726.641668</td>\n",
       "      <td>8.073796</td>\n",
       "      <td>0.035207</td>\n",
       "    </tr>\n",
       "    <tr>\n",
       "      <th>13</th>\n",
       "      <td>uplift_score</td>\n",
       "      <td>14</td>\n",
       "      <td>0.70</td>\n",
       "      <td>1023</td>\n",
       "      <td>6300</td>\n",
       "      <td>319</td>\n",
       "      <td>6993</td>\n",
       "      <td>735.612613</td>\n",
       "      <td>8.173473</td>\n",
       "      <td>0.024385</td>\n",
       "    </tr>\n",
       "    <tr>\n",
       "      <th>14</th>\n",
       "      <td>uplift_score</td>\n",
       "      <td>15</td>\n",
       "      <td>0.75</td>\n",
       "      <td>1038</td>\n",
       "      <td>6750</td>\n",
       "      <td>322</td>\n",
       "      <td>7422</td>\n",
       "      <td>745.154406</td>\n",
       "      <td>8.279493</td>\n",
       "      <td>0.026340</td>\n",
       "    </tr>\n",
       "    <tr>\n",
       "      <th>15</th>\n",
       "      <td>uplift_score</td>\n",
       "      <td>16</td>\n",
       "      <td>0.80</td>\n",
       "      <td>1046</td>\n",
       "      <td>7200</td>\n",
       "      <td>323</td>\n",
       "      <td>7847</td>\n",
       "      <td>749.631961</td>\n",
       "      <td>8.329244</td>\n",
       "      <td>0.015425</td>\n",
       "    </tr>\n",
       "    <tr>\n",
       "      <th>16</th>\n",
       "      <td>uplift_score</td>\n",
       "      <td>17</td>\n",
       "      <td>0.85</td>\n",
       "      <td>1052</td>\n",
       "      <td>7650</td>\n",
       "      <td>324</td>\n",
       "      <td>8244</td>\n",
       "      <td>751.344978</td>\n",
       "      <td>8.348278</td>\n",
       "      <td>0.010814</td>\n",
       "    </tr>\n",
       "    <tr>\n",
       "      <th>17</th>\n",
       "      <td>uplift_score</td>\n",
       "      <td>18</td>\n",
       "      <td>0.90</td>\n",
       "      <td>1075</td>\n",
       "      <td>8100</td>\n",
       "      <td>357</td>\n",
       "      <td>8640</td>\n",
       "      <td>740.312500</td>\n",
       "      <td>8.225694</td>\n",
       "      <td>-0.032222</td>\n",
       "    </tr>\n",
       "    <tr>\n",
       "      <th>18</th>\n",
       "      <td>uplift_score</td>\n",
       "      <td>19</td>\n",
       "      <td>0.95</td>\n",
       "      <td>1137</td>\n",
       "      <td>8550</td>\n",
       "      <td>433</td>\n",
       "      <td>8847</td>\n",
       "      <td>718.536114</td>\n",
       "      <td>7.983735</td>\n",
       "      <td>-0.229372</td>\n",
       "    </tr>\n",
       "    <tr>\n",
       "      <th>19</th>\n",
       "      <td>uplift_score</td>\n",
       "      <td>20</td>\n",
       "      <td>1.00</td>\n",
       "      <td>1174</td>\n",
       "      <td>9000</td>\n",
       "      <td>512</td>\n",
       "      <td>9000</td>\n",
       "      <td>662.000000</td>\n",
       "      <td>7.355556</td>\n",
       "      <td>-0.434118</td>\n",
       "    </tr>\n",
       "  </tbody>\n",
       "</table>\n",
       "</div>"
      ],
      "text/plain": [
       "            pred  bins  cum_prop  T_resp   T_n  C_resp   C_n  \\\n",
       "0   uplift_score     1      0.05     207   450      72   592   \n",
       "1   uplift_score     2      0.10     341   900      96  1132   \n",
       "2   uplift_score     3      0.15     442  1350     115  1687   \n",
       "3   uplift_score     4      0.20     565  1800     153  2249   \n",
       "4   uplift_score     5      0.25     655  2250     181  2675   \n",
       "5   uplift_score     6      0.30     721  2700     197  3187   \n",
       "6   uplift_score     7      0.35     773  3150     211  3648   \n",
       "7   uplift_score     8      0.40     813  3600     226  4206   \n",
       "8   uplift_score     9      0.45     861  4050     239  4698   \n",
       "9   uplift_score    10      0.50     906  4500     253  5186   \n",
       "10  uplift_score    11      0.55     977  4950     311  5677   \n",
       "11  uplift_score    12      0.60     992  5400     315  6158   \n",
       "12  uplift_score    13      0.65    1009  5850     316  6547   \n",
       "13  uplift_score    14      0.70    1023  6300     319  6993   \n",
       "14  uplift_score    15      0.75    1038  6750     322  7422   \n",
       "15  uplift_score    16      0.80    1046  7200     323  7847   \n",
       "16  uplift_score    17      0.85    1052  7650     324  8244   \n",
       "17  uplift_score    18      0.90    1075  8100     357  8640   \n",
       "18  uplift_score    19      0.95    1137  8550     433  8847   \n",
       "19  uplift_score    20      1.00    1174  9000     512  9000   \n",
       "\n",
       "    incremental_resp  inc_uplift    uplift  \n",
       "0         152.270270    1.691892  0.338378  \n",
       "1         264.674912    2.940832  0.253333  \n",
       "2         349.972733    3.888586  0.190210  \n",
       "3         442.545576    4.917173  0.205718  \n",
       "4         502.757009    5.586189  0.134272  \n",
       "5         554.103232    6.156703  0.115417  \n",
       "6         590.804276    6.564492  0.085187  \n",
       "7         619.562054    6.884023  0.062007  \n",
       "8         654.965517    7.277395  0.080244  \n",
       "9         686.466641    7.627407  0.071311  \n",
       "10        705.826845    7.842521  0.039652  \n",
       "11        715.773953    7.953044  0.025017  \n",
       "12        726.641668    8.073796  0.035207  \n",
       "13        735.612613    8.173473  0.024385  \n",
       "14        745.154406    8.279493  0.026340  \n",
       "15        749.631961    8.329244  0.015425  \n",
       "16        751.344978    8.348278  0.010814  \n",
       "17        740.312500    8.225694 -0.032222  \n",
       "18        718.536114    7.983735 -0.229372  \n",
       "19        662.000000    7.355556 -0.434118  "
      ]
     },
     "execution_count": 32,
     "metadata": {},
     "output_type": "execute_result"
    }
   ],
   "source": [
    "tab = rsm.uplift_tab(\n",
    "    cg_rct_stacked.query(\"training == 0\"), rvar=\"converted\", lev=\"yes\", \n",
    "    pred=\"uplift_score\", tvar=\"ad\", tlev=1, qnt=20\n",
    ")\n",
    "# tab.to_csv(\"../cg_rct_stacked.csv\")\n",
    "tab"
   ]
  },
  {
   "cell_type": "code",
   "execution_count": 33,
   "metadata": {},
   "outputs": [
    {
     "data": {
      "image/png": "[encoded data removed]",
      "text/plain": [
       "<Figure size 640x480 with 1 Axes>"
      ]
     },
     "metadata": {},
     "output_type": "display_data"
    }
   ],
   "source": [
    "fig2 = rsm.inc_uplift_plot(\n",
    "    cg_rct_stacked.query(\"training == 1\"), \"converted\", \"yes\", \"uplift_score\", \"ad\", 1,20,label='training'\n",
    ")\n",
    "\n",
    "fig1 = rsm.inc_uplift_plot(\n",
    "    cg_rct_stacked.query(\"training == 0\"), \"converted\", \"yes\", \"uplift_score\", \"ad\", 1,20,label='test'\n",
    ")"
   ]
  },
  {
   "cell_type": "code",
   "execution_count": 34,
   "metadata": {},
   "outputs": [
    {
     "data": {
      "image/png": "[encoded data removed]",
      "text/plain": [
       "<Figure size 640x480 with 1 Axes>"
      ]
     },
     "metadata": {},
     "output_type": "display_data"
    }
   ],
   "source": [
    "fig1 = rsm.uplift_plot(\n",
    "    cg_rct_stacked.query(\"training == 0\"), \n",
    "    \"converted\", \"yes\", \"uplift_score\", \"ad\", 1, 20\n",
    ")"
   ]
  },
  {
   "cell_type": "markdown",
   "metadata": {},
   "source": [
    "# Interpretation of plots and tab:\n",
    "\n",
    "1. We gain the maximum cumulative uplift when we traget around 85% of the customers in the test set. This can be seen from the incremental uplift plot and the uplift tab\n",
    "2. When we target more than 85% customers, our cumulative uplift starts declining. This can be clearly seen from the uplit plot and tab.\n",
    "3. There's a decreasing trend of upflit as the decile increases"
   ]
  },
  {
   "cell_type": "code",
   "execution_count": 35,
   "metadata": {},
   "outputs": [],
   "source": [
    "cost = 1.5\n",
    "revenues = 14.99"
   ]
  },
  {
   "cell_type": "code",
   "execution_count": 36,
   "metadata": {},
   "outputs": [],
   "source": [
    "breakeven = cost/revenues"
   ]
  },
  {
   "cell_type": "code",
   "execution_count": 37,
   "metadata": {},
   "outputs": [
    {
     "name": "stdout",
     "output_type": "stream",
     "text": [
      "target_number for test set is 2250 customer:\n"
     ]
    }
   ],
   "source": [
    "target_rate = 30000 / 120000\n",
    "target_number = 9000 * target_rate\n",
    "print('target_number for test set is {:.0f} customer:'.format(target_number))"
   ]
  },
  {
   "cell_type": "code",
   "execution_count": 38,
   "metadata": {},
   "outputs": [
    {
     "data": {
      "text/plain": [
       "502.75700934579436"
      ]
     },
     "execution_count": 38,
     "metadata": {},
     "output_type": "execute_result"
    }
   ],
   "source": [
    "incremental_resp = tab[tab['T_n']==target_number].incremental_resp.item()\n",
    "incremental_resp"
   ]
  },
  {
   "cell_type": "code",
   "execution_count": 39,
   "metadata": {},
   "outputs": [
    {
     "data": {
      "text/plain": [
       "6703.4267912772575"
      ]
     },
     "execution_count": 39,
     "metadata": {},
     "output_type": "execute_result"
    }
   ],
   "source": [
    "extrapolated_incremental_resp = incremental_resp * 120000/9000\n",
    "extrapolated_incremental_resp"
   ]
  },
  {
   "cell_type": "code",
   "execution_count": 49,
   "metadata": {},
   "outputs": [
    {
     "name": "stdout",
     "output_type": "stream",
     "text": [
      "Incremental profit from targeting the best 30,000 customers using uplift score: $55484.37\n"
     ]
    }
   ],
   "source": [
    "incremental_profit = revenues * extrapolated_incremental_resp - cost*30000\n",
    "print(\"Incremental profit from targeting the best 30,000 customers using uplift score: ${:.2f}\".format(incremental_profit))\n"
   ]
  },
  {
   "cell_type": "code",
   "execution_count": 43,
   "metadata": {},
   "outputs": [
    {
     "data": {
      "text/html": [
       "<div>\n",
       "<style scoped>\n",
       "    .dataframe tbody tr th:only-of-type {\n",
       "        vertical-align: middle;\n",
       "    }\n",
       "\n",
       "    .dataframe tbody tr th {\n",
       "        vertical-align: top;\n",
       "    }\n",
       "\n",
       "    .dataframe thead th {\n",
       "        text-align: right;\n",
       "    }\n",
       "</style>\n",
       "<table border=\"1\" class=\"dataframe\">\n",
       "  <thead>\n",
       "    <tr style=\"text-align: right;\">\n",
       "      <th></th>\n",
       "      <th>pred</th>\n",
       "      <th>bins</th>\n",
       "      <th>cum_prop</th>\n",
       "      <th>T_resp</th>\n",
       "      <th>T_n</th>\n",
       "      <th>C_resp</th>\n",
       "      <th>C_n</th>\n",
       "      <th>incremental_resp</th>\n",
       "      <th>inc_uplift</th>\n",
       "      <th>uplift</th>\n",
       "    </tr>\n",
       "  </thead>\n",
       "  <tbody>\n",
       "    <tr>\n",
       "      <th>0</th>\n",
       "      <td>pred_treatment</td>\n",
       "      <td>1</td>\n",
       "      <td>0.05</td>\n",
       "      <td>215</td>\n",
       "      <td>450</td>\n",
       "      <td>81</td>\n",
       "      <td>625</td>\n",
       "      <td>156.680000</td>\n",
       "      <td>1.740889</td>\n",
       "      <td>0.348178</td>\n",
       "    </tr>\n",
       "    <tr>\n",
       "      <th>1</th>\n",
       "      <td>pred_treatment</td>\n",
       "      <td>2</td>\n",
       "      <td>0.10</td>\n",
       "      <td>356</td>\n",
       "      <td>900</td>\n",
       "      <td>116</td>\n",
       "      <td>1053</td>\n",
       "      <td>256.854701</td>\n",
       "      <td>2.853941</td>\n",
       "      <td>0.231558</td>\n",
       "    </tr>\n",
       "    <tr>\n",
       "      <th>2</th>\n",
       "      <td>pred_treatment</td>\n",
       "      <td>3</td>\n",
       "      <td>0.15</td>\n",
       "      <td>473</td>\n",
       "      <td>1350</td>\n",
       "      <td>142</td>\n",
       "      <td>1629</td>\n",
       "      <td>355.320442</td>\n",
       "      <td>3.948005</td>\n",
       "      <td>0.214861</td>\n",
       "    </tr>\n",
       "    <tr>\n",
       "      <th>3</th>\n",
       "      <td>pred_treatment</td>\n",
       "      <td>4</td>\n",
       "      <td>0.20</td>\n",
       "      <td>558</td>\n",
       "      <td>1800</td>\n",
       "      <td>182</td>\n",
       "      <td>2100</td>\n",
       "      <td>402.000000</td>\n",
       "      <td>4.466667</td>\n",
       "      <td>0.103963</td>\n",
       "    </tr>\n",
       "    <tr>\n",
       "      <th>4</th>\n",
       "      <td>pred_treatment</td>\n",
       "      <td>5</td>\n",
       "      <td>0.25</td>\n",
       "      <td>649</td>\n",
       "      <td>2250</td>\n",
       "      <td>239</td>\n",
       "      <td>2509</td>\n",
       "      <td>434.671582</td>\n",
       "      <td>4.829684</td>\n",
       "      <td>0.062858</td>\n",
       "    </tr>\n",
       "    <tr>\n",
       "      <th>5</th>\n",
       "      <td>pred_treatment</td>\n",
       "      <td>6</td>\n",
       "      <td>0.30</td>\n",
       "      <td>714</td>\n",
       "      <td>2700</td>\n",
       "      <td>311</td>\n",
       "      <td>2890</td>\n",
       "      <td>423.446367</td>\n",
       "      <td>4.704960</td>\n",
       "      <td>-0.044532</td>\n",
       "    </tr>\n",
       "    <tr>\n",
       "      <th>6</th>\n",
       "      <td>pred_treatment</td>\n",
       "      <td>7</td>\n",
       "      <td>0.35</td>\n",
       "      <td>801</td>\n",
       "      <td>3150</td>\n",
       "      <td>369</td>\n",
       "      <td>3179</td>\n",
       "      <td>435.366153</td>\n",
       "      <td>4.837402</td>\n",
       "      <td>-0.007359</td>\n",
       "    </tr>\n",
       "    <tr>\n",
       "      <th>7</th>\n",
       "      <td>pred_treatment</td>\n",
       "      <td>8</td>\n",
       "      <td>0.40</td>\n",
       "      <td>877</td>\n",
       "      <td>3600</td>\n",
       "      <td>433</td>\n",
       "      <td>3508</td>\n",
       "      <td>432.644242</td>\n",
       "      <td>4.807158</td>\n",
       "      <td>-0.025640</td>\n",
       "    </tr>\n",
       "    <tr>\n",
       "      <th>8</th>\n",
       "      <td>pred_treatment</td>\n",
       "      <td>9</td>\n",
       "      <td>0.45</td>\n",
       "      <td>936</td>\n",
       "      <td>4050</td>\n",
       "      <td>471</td>\n",
       "      <td>3942</td>\n",
       "      <td>452.095890</td>\n",
       "      <td>5.023288</td>\n",
       "      <td>0.043554</td>\n",
       "    </tr>\n",
       "    <tr>\n",
       "      <th>9</th>\n",
       "      <td>pred_treatment</td>\n",
       "      <td>10</td>\n",
       "      <td>0.50</td>\n",
       "      <td>989</td>\n",
       "      <td>4500</td>\n",
       "      <td>483</td>\n",
       "      <td>4396</td>\n",
       "      <td>494.573248</td>\n",
       "      <td>5.495258</td>\n",
       "      <td>0.091346</td>\n",
       "    </tr>\n",
       "    <tr>\n",
       "      <th>10</th>\n",
       "      <td>pred_treatment</td>\n",
       "      <td>11</td>\n",
       "      <td>0.55</td>\n",
       "      <td>1032</td>\n",
       "      <td>4950</td>\n",
       "      <td>490</td>\n",
       "      <td>4899</td>\n",
       "      <td>536.898959</td>\n",
       "      <td>5.965544</td>\n",
       "      <td>0.081639</td>\n",
       "    </tr>\n",
       "    <tr>\n",
       "      <th>11</th>\n",
       "      <td>pred_treatment</td>\n",
       "      <td>12</td>\n",
       "      <td>0.60</td>\n",
       "      <td>1070</td>\n",
       "      <td>5400</td>\n",
       "      <td>493</td>\n",
       "      <td>5418</td>\n",
       "      <td>578.637874</td>\n",
       "      <td>6.429310</td>\n",
       "      <td>0.078664</td>\n",
       "    </tr>\n",
       "    <tr>\n",
       "      <th>12</th>\n",
       "      <td>pred_treatment</td>\n",
       "      <td>13</td>\n",
       "      <td>0.65</td>\n",
       "      <td>1093</td>\n",
       "      <td>5850</td>\n",
       "      <td>500</td>\n",
       "      <td>5931</td>\n",
       "      <td>599.828528</td>\n",
       "      <td>6.664761</td>\n",
       "      <td>0.037466</td>\n",
       "    </tr>\n",
       "    <tr>\n",
       "      <th>13</th>\n",
       "      <td>pred_treatment</td>\n",
       "      <td>14</td>\n",
       "      <td>0.70</td>\n",
       "      <td>1107</td>\n",
       "      <td>6300</td>\n",
       "      <td>501</td>\n",
       "      <td>6385</td>\n",
       "      <td>612.669538</td>\n",
       "      <td>6.807439</td>\n",
       "      <td>0.028908</td>\n",
       "    </tr>\n",
       "    <tr>\n",
       "      <th>14</th>\n",
       "      <td>pred_treatment</td>\n",
       "      <td>15</td>\n",
       "      <td>0.75</td>\n",
       "      <td>1118</td>\n",
       "      <td>6750</td>\n",
       "      <td>502</td>\n",
       "      <td>6800</td>\n",
       "      <td>619.691176</td>\n",
       "      <td>6.885458</td>\n",
       "      <td>0.022035</td>\n",
       "    </tr>\n",
       "    <tr>\n",
       "      <th>15</th>\n",
       "      <td>pred_treatment</td>\n",
       "      <td>16</td>\n",
       "      <td>0.80</td>\n",
       "      <td>1133</td>\n",
       "      <td>7200</td>\n",
       "      <td>507</td>\n",
       "      <td>7262</td>\n",
       "      <td>630.328560</td>\n",
       "      <td>7.003651</td>\n",
       "      <td>0.022511</td>\n",
       "    </tr>\n",
       "    <tr>\n",
       "      <th>16</th>\n",
       "      <td>pred_treatment</td>\n",
       "      <td>17</td>\n",
       "      <td>0.85</td>\n",
       "      <td>1148</td>\n",
       "      <td>7650</td>\n",
       "      <td>508</td>\n",
       "      <td>7700</td>\n",
       "      <td>643.298701</td>\n",
       "      <td>7.147763</td>\n",
       "      <td>0.031050</td>\n",
       "    </tr>\n",
       "    <tr>\n",
       "      <th>17</th>\n",
       "      <td>pred_treatment</td>\n",
       "      <td>18</td>\n",
       "      <td>0.90</td>\n",
       "      <td>1159</td>\n",
       "      <td>8100</td>\n",
       "      <td>509</td>\n",
       "      <td>8116</td>\n",
       "      <td>651.003450</td>\n",
       "      <td>7.233372</td>\n",
       "      <td>0.022041</td>\n",
       "    </tr>\n",
       "    <tr>\n",
       "      <th>18</th>\n",
       "      <td>pred_treatment</td>\n",
       "      <td>19</td>\n",
       "      <td>0.95</td>\n",
       "      <td>1167</td>\n",
       "      <td>8550</td>\n",
       "      <td>510</td>\n",
       "      <td>8541</td>\n",
       "      <td>656.462592</td>\n",
       "      <td>7.294029</td>\n",
       "      <td>0.015425</td>\n",
       "    </tr>\n",
       "    <tr>\n",
       "      <th>19</th>\n",
       "      <td>pred_treatment</td>\n",
       "      <td>20</td>\n",
       "      <td>1.00</td>\n",
       "      <td>1174</td>\n",
       "      <td>9000</td>\n",
       "      <td>512</td>\n",
       "      <td>9000</td>\n",
       "      <td>662.000000</td>\n",
       "      <td>7.355556</td>\n",
       "      <td>0.011198</td>\n",
       "    </tr>\n",
       "  </tbody>\n",
       "</table>\n",
       "</div>"
      ],
      "text/plain": [
       "              pred  bins  cum_prop  T_resp   T_n  C_resp   C_n  \\\n",
       "0   pred_treatment     1      0.05     215   450      81   625   \n",
       "1   pred_treatment     2      0.10     356   900     116  1053   \n",
       "2   pred_treatment     3      0.15     473  1350     142  1629   \n",
       "3   pred_treatment     4      0.20     558  1800     182  2100   \n",
       "4   pred_treatment     5      0.25     649  2250     239  2509   \n",
       "5   pred_treatment     6      0.30     714  2700     311  2890   \n",
       "6   pred_treatment     7      0.35     801  3150     369  3179   \n",
       "7   pred_treatment     8      0.40     877  3600     433  3508   \n",
       "8   pred_treatment     9      0.45     936  4050     471  3942   \n",
       "9   pred_treatment    10      0.50     989  4500     483  4396   \n",
       "10  pred_treatment    11      0.55    1032  4950     490  4899   \n",
       "11  pred_treatment    12      0.60    1070  5400     493  5418   \n",
       "12  pred_treatment    13      0.65    1093  5850     500  5931   \n",
       "13  pred_treatment    14      0.70    1107  6300     501  6385   \n",
       "14  pred_treatment    15      0.75    1118  6750     502  6800   \n",
       "15  pred_treatment    16      0.80    1133  7200     507  7262   \n",
       "16  pred_treatment    17      0.85    1148  7650     508  7700   \n",
       "17  pred_treatment    18      0.90    1159  8100     509  8116   \n",
       "18  pred_treatment    19      0.95    1167  8550     510  8541   \n",
       "19  pred_treatment    20      1.00    1174  9000     512  9000   \n",
       "\n",
       "    incremental_resp  inc_uplift    uplift  \n",
       "0         156.680000    1.740889  0.348178  \n",
       "1         256.854701    2.853941  0.231558  \n",
       "2         355.320442    3.948005  0.214861  \n",
       "3         402.000000    4.466667  0.103963  \n",
       "4         434.671582    4.829684  0.062858  \n",
       "5         423.446367    4.704960 -0.044532  \n",
       "6         435.366153    4.837402 -0.007359  \n",
       "7         432.644242    4.807158 -0.025640  \n",
       "8         452.095890    5.023288  0.043554  \n",
       "9         494.573248    5.495258  0.091346  \n",
       "10        536.898959    5.965544  0.081639  \n",
       "11        578.637874    6.429310  0.078664  \n",
       "12        599.828528    6.664761  0.037466  \n",
       "13        612.669538    6.807439  0.028908  \n",
       "14        619.691176    6.885458  0.022035  \n",
       "15        630.328560    7.003651  0.022511  \n",
       "16        643.298701    7.147763  0.031050  \n",
       "17        651.003450    7.233372  0.022041  \n",
       "18        656.462592    7.294029  0.015425  \n",
       "19        662.000000    7.355556  0.011198  "
      ]
     },
     "execution_count": 43,
     "metadata": {},
     "output_type": "execute_result"
    }
   ],
   "source": [
    "tab_propensity = rsm.uplift_tab(\n",
    "    cg_rct_stacked.query(\"training == 0\"), rvar=\"converted\", lev=\"yes\", \n",
    "    pred=\"pred_treatment\", tvar=\"ad\", tlev=1, qnt=20\n",
    ")\n",
    "# tab.to_csv(\"../cg_rct_stacked.csv\")\n",
    "tab_propensity"
   ]
  },
  {
   "cell_type": "code",
   "execution_count": 44,
   "metadata": {},
   "outputs": [
    {
     "data": {
      "image/png": "[encoded data removed]",
      "text/plain": [
       "<Figure size 640x480 with 1 Axes>"
      ]
     },
     "metadata": {},
     "output_type": "display_data"
    }
   ],
   "source": [
    "fig = rsm.inc_uplift_plot(\n",
    "    cg_rct_stacked.query(\"training == 0\"),\n",
    "    \"converted\",\n",
    "    \"yes\",\n",
    "    [\"pred_treatment\",\"uplift_score\"],\n",
    "    \"ad\",\n",
    "    1,20\n",
    ")"
   ]
  },
  {
   "cell_type": "code",
   "execution_count": 45,
   "metadata": {},
   "outputs": [
    {
     "data": {
      "image/png": "[encoded data removed]",
      "text/plain": [
       "<Figure size 640x480 with 1 Axes>"
      ]
     },
     "metadata": {},
     "output_type": "display_data"
    }
   ],
   "source": [
    "fig = rsm.uplift_plot(\n",
    "    cg_rct_stacked.query(\"training == 0\"),\n",
    "    \"converted\",\n",
    "    \"yes\",\n",
    "    [\"pred_treatment\",\"uplift_score\"],\n",
    "    \"ad\",\n",
    "    1,20\n",
    ")"
   ]
  },
  {
   "cell_type": "markdown",
   "metadata": {},
   "source": [
    "# Interpretation of plots and tab:\n",
    "\n",
    "1. We see negative uplift from the propensity model in 6th, 7th and 8th bins. \n",
    "2. Uplift score is higher than the pred_treatment probabilities for the fist 10 bins. After that the trend reverses"
   ]
  },
  {
   "cell_type": "code",
   "execution_count": 46,
   "metadata": {},
   "outputs": [
    {
     "data": {
      "text/plain": [
       "434.67158230370666"
      ]
     },
     "execution_count": 46,
     "metadata": {},
     "output_type": "execute_result"
    }
   ],
   "source": [
    "incremental_resp2 = tab_propensity[tab_propensity['T_n']==target_number].incremental_resp.item()\n",
    "incremental_resp2"
   ]
  },
  {
   "cell_type": "code",
   "execution_count": 47,
   "metadata": {},
   "outputs": [
    {
     "data": {
      "text/plain": [
       "5795.621097382756"
      ]
     },
     "execution_count": 47,
     "metadata": {},
     "output_type": "execute_result"
    }
   ],
   "source": [
    "extrapolated_incremental_resp2 = incremental_resp2 * 120000/9000\n",
    "extrapolated_incremental_resp2"
   ]
  },
  {
   "cell_type": "code",
   "execution_count": 76,
   "metadata": {},
   "outputs": [
    {
     "name": "stdout",
     "output_type": "stream",
     "text": [
      "Incremental profit from targeting the best 30,000 customers using propensity score: $41876.36\n",
      "We would make $13608 more using an uplift rather than a propensity model\n"
     ]
    }
   ],
   "source": [
    "incremental_profit2 = revenues * extrapolated_incremental_resp2 - cost*30000\n",
    "print(\"Incremental profit from targeting the best 30,000 customers using propensity score: ${:.2f}\".format(incremental_profit2))\n",
    "print(f\"We would make ${round(incremental_profit - incremental_profit2)} more using an uplift rather than a propensity model\")\n"
   ]
  },
  {
   "cell_type": "markdown",
   "metadata": {},
   "source": [
    "# Part II: Targeting the optimal percent of customers"
   ]
  },
  {
   "attachments": {},
   "cell_type": "markdown",
   "metadata": {},
   "source": [
    "\n",
    "\n",
    "If we were to select customers to maximise profits using propensity model, apply breakeven cut off on pred_treatment on the test treatment data. Take the count of these customers to target. This count can be converted to percentage by dividing by total number of rows in the data"
   ]
  },
  {
   "cell_type": "code",
   "execution_count": 64,
   "metadata": {},
   "outputs": [
    {
     "name": "stdout",
     "output_type": "stream",
     "text": [
      "Percentage of customers to target to maximise profits using propensity model based on breakeven: 64.33%\n"
     ]
    }
   ],
   "source": [
    "cg_rct_stacked[\"breakeven_flag\"] = cg_rct_stacked[\"pred_treatment\"] > breakeven\n",
    "\n",
    "# count the number of customers to target based on breakeven threshold in the test set\n",
    "target_num = cg_rct_stacked.query(\"training ==0 and ad == 1\")[\"breakeven_flag\"].sum()\n",
    "target_num_pct = cg_rct_stacked.query(\"training ==0 and ad == 1\")[\"breakeven_flag\"].mean()\n",
    "print(f\"Percentage of customers to target to maximise profits using propensity model based on breakeven: {round(target_num_pct*100,2)}%\")"
   ]
  },
  {
   "attachments": {},
   "cell_type": "markdown",
   "metadata": {},
   "source": [
    "\n",
    "\n",
    "If we were to select customers to maximise incremental profit using uplift model, apply breakeven cut off on uplift_score on the test treatment data. Take the count of these customers to target. This count can be converted to percentage by dividing by total number of rows in the data"
   ]
  },
  {
   "cell_type": "code",
   "execution_count": 52,
   "metadata": {},
   "outputs": [
    {
     "name": "stdout",
     "output_type": "stream",
     "text": [
      "Percantage of customers to target to maximise incremental profit using uplift score based on breakeven: 21.49%\n"
     ]
    }
   ],
   "source": [
    "cg_rct_stacked[\"breakeven_flag_uplift\"] = cg_rct_stacked[\"uplift_score\"] > breakeven\n",
    "\n",
    "# count the number of customers to target based on breakeven threshold in the test set\n",
    "target_num_uplift = cg_rct_stacked.query(\"training ==0 and ad == 1\")[\"breakeven_flag_uplift\"].sum()\n",
    "target_num_pct_uplift = target_num_uplift/(cg_rct_stacked.query(\"training ==0 and ad == 1\").shape[0])\n",
    "print(f\"Percantage of customers to target to maximise incremental profit using uplift score based on breakeven: {round(target_num_pct_uplift*100,2)}%\")"
   ]
  },
  {
   "cell_type": "markdown",
   "metadata": {},
   "source": [
    "Propensity Model Profit"
   ]
  },
  {
   "cell_type": "code",
   "execution_count": 53,
   "metadata": {},
   "outputs": [],
   "source": [
    "# trace this back to the uplift tab for propensity model. \n",
    "nearest_decile_cum_prop = 5 * round(target_num_pct*100/5)\n",
    "nearest_decile_cum_prop\n",
    "inc_resp_rate = tab_propensity[\n",
    "    tab_propensity[\"cum_prop\"] == nearest_decile_cum_prop/100][\"incremental_resp\"].item()\n"
   ]
  },
  {
   "cell_type": "code",
   "execution_count": 71,
   "metadata": {},
   "outputs": [
    {
     "data": {
      "text/plain": [
       "599.8285280728376"
      ]
     },
     "execution_count": 71,
     "metadata": {},
     "output_type": "execute_result"
    }
   ],
   "source": [
    "inc_resp_rate"
   ]
  },
  {
   "cell_type": "code",
   "execution_count": 54,
   "metadata": {},
   "outputs": [
    {
     "data": {
      "text/plain": [
       "7997.713707637835"
      ]
     },
     "execution_count": 54,
     "metadata": {},
     "output_type": "execute_result"
    }
   ],
   "source": [
    "extrapolated_incremental_prop = inc_resp_rate * 120000/9000\n",
    "extrapolated_incremental_prop"
   ]
  },
  {
   "cell_type": "code",
   "execution_count": 73,
   "metadata": {},
   "outputs": [
    {
     "name": "stdout",
     "output_type": "stream",
     "text": [
      "Incremental profit from targeting the best 64.33% customers using propensity model: $4086\n"
     ]
    }
   ],
   "source": [
    "incremental_prof_prop = revenues * extrapolated_incremental_prop - cost*120000*target_num_pct\n",
    "print(f\"Incremental profit from targeting the best {round(target_num_pct*100,2)}% customers using propensity model: ${round(incremental_prof_prop)}\")"
   ]
  },
  {
   "cell_type": "markdown",
   "metadata": {},
   "source": [
    "Uplift Model profit"
   ]
  },
  {
   "cell_type": "code",
   "execution_count": 56,
   "metadata": {},
   "outputs": [],
   "source": [
    "# trace this back to the uplift tab for propensity model. \n",
    "nearest_decile_cum_prop_uplift = 5 * round(target_num_pct_uplift*100/5)\n",
    "inc_resp_rate_uplift = tab[\n",
    "    tab[\"cum_prop\"] == nearest_decile_cum_prop/100][\"incremental_resp\"].item()\n"
   ]
  },
  {
   "cell_type": "code",
   "execution_count": 57,
   "metadata": {},
   "outputs": [
    {
     "data": {
      "text/plain": [
       "9688.555572526857"
      ]
     },
     "execution_count": 57,
     "metadata": {},
     "output_type": "execute_result"
    }
   ],
   "source": [
    "extrapolated_incremental_uplift = inc_resp_rate_uplift * 120000/9000\n",
    "extrapolated_incremental_uplift"
   ]
  },
  {
   "cell_type": "code",
   "execution_count": 61,
   "metadata": {},
   "outputs": [
    {
     "name": "stdout",
     "output_type": "stream",
     "text": [
      "Incremental profit from targeting the best 21.49% customers using uplift model: $106551\n"
     ]
    }
   ],
   "source": [
    "incremental_prof_uplift = revenues * extrapolated_incremental_uplift - cost*120000*target_num_pct_uplift\n",
    "print(f\"Incremental profit from targeting the best {round(target_num_pct_uplift*100,2)}% customers using uplift model: ${round(incremental_prof_uplift)}\")"
   ]
  },
  {
   "cell_type": "code",
   "execution_count": 62,
   "metadata": {},
   "outputs": [
    {
     "name": "stdout",
     "output_type": "stream",
     "text": [
      "Incremental profits from Uplift model are BETTER than propensity\n",
      "    model by 102466 dollars\n"
     ]
    }
   ],
   "source": [
    "if incremental_prof_uplift > incremental_prof_prop:\n",
    "    print(f\"\"\"Incremental profits from Uplift model are BETTER than propensity\n",
    "    model by {round(incremental_prof_uplift - incremental_prof_prop)} dollars\"\"\")\n",
    "else:\n",
    "    print(f\"\"\"Incremental profits from Uplift model are LOWER than propensity\n",
    "    model by {round(incremental_prof_prop - incremental_prof_uplift)} dollars\"\"\")"
   ]
  },
  {
   "attachments": {},
   "cell_type": "markdown",
   "metadata": {},
   "source": [
    "\n",
    "\n",
    "uplift models are typically better suited for predicting incremental profits. Reasons:\n",
    "\n",
    "1. Focus on treatment effect: Unlike propensity models that focus on predicting the probability of a customer taking a specific action regardless of whether they are treated or not, uplift models focus on predicting the incremental impact of a treatment. By identifying which customers are most likely to respond positively to a treatment, uplift models can help companies target those customers who will generate the most incremental revenue. This approach tends to be more effective in identifying customers who are most likely to generate incremental profits.\n",
    "\n",
    "2. Reduction of cannibalization: Propensity models only focus on predicting customer behavior, regardless of whether they would have taken the desired action anyway. This means that propensity models can include customers who would have made a purchase without being targeted, resulting in cannibalization of revenue. Uplift models help to minimize this cannibalization effect by identifying only those customers who are most likely to make a purchase as a result of the treatment, resulting in a higher incremental profit.\n",
    "\n",
    "\n",
    "\n",
    "\n"
   ]
  },
  {
   "cell_type": "markdown",
   "metadata": {},
   "source": []
  }
 ],
 "metadata": {
  "kernelspec": {
   "display_name": "Python 3 (ipykernel)",
   "language": "python",
   "name": "python3"
  },
  "language_info": {
   "codemirror_mode": {
    "name": "ipython",
    "version": 3
   },
   "file_extension": ".py",
   "mimetype": "text/x-python",
   "name": "python",
   "nbconvert_exporter": "python",
   "pygments_lexer": "ipython3",
   "version": "3.10.8"
  },
  "vscode": {
   "interpreter": {
    "hash": "d4d1e4263499bec80672ea0156c357c1ee493ec2b1c70f0acce89fc37c4a6abe"
   }
  }
 },
 "nbformat": 4,
 "nbformat_minor": 4
}
